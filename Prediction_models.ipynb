{
 "cells": [
  {
   "cell_type": "code",
   "execution_count": 2,
   "metadata": {},
   "outputs": [],
   "source": [
    "# data processing\n",
    "import pandas as pd\n",
    "import numpy as np\n",
    "from datetime import datetime\n",
    "from datetime import timedelta\n",
    "\n",
    "# plotting\n",
    "import seaborn as sns\n",
    "import matplotlib.pyplot as plt\n",
    "\n",
    "# regression / matching\n",
    "import statsmodels.formula.api as smf"
   ]
  },
  {
   "cell_type": "markdown",
   "metadata": {},
   "source": [
    "## Load the training data\n",
    "This is the clean data that we processed in the notebook `Training_data_preparation`"
   ]
  },
  {
   "cell_type": "code",
   "execution_count": 14,
   "metadata": {},
   "outputs": [],
   "source": [
    "data_path = \"DATA/training_data/\"\n",
    "\n",
    "df = pd.read_csv(data_path + \"VEX_edac_mag_labeled.csv\")"
   ]
  },
  {
   "cell_type": "markdown",
   "metadata": {},
   "source": [
    "## Class imbalance\n",
    "Let's have a look at the class imbalance in our training data:"
   ]
  },
  {
   "cell_type": "code",
   "execution_count": 18,
   "metadata": {},
   "outputs": [
    {
     "name": "stdout",
     "output_type": "stream",
     "text": [
      "CME events in our data:\n",
      "cme\n",
      "0    65077\n",
      "1     1402\n",
      "Name: count, dtype: int64\n",
      "Percentage of CME events: 2.11\n"
     ]
    }
   ],
   "source": [
    "print('CME events in our data:')\n",
    "print(df['cme'].value_counts())\n",
    "\n",
    "cme_percentage = df['cme'].value_counts()[1] / len(df['cme']) * 100\n",
    "\n",
    "# Print the percentage of CME events using f-strings and rounding to 2 decimal places\n",
    "print(f'Percentage of CME events: {round(cme_percentage, 2)}')"
   ]
  },
  {
   "cell_type": "markdown",
   "metadata": {},
   "source": [
    "The proportion of CME events is very low: only 2% of our data corresponds to a CME.\n",
    "\n",
    "Since we have this huge class imbalance, we can expect the models we will train to be biased towards predicting no CMEs.\n",
    "We will have to implement various methods to mitigate this class imbalance."
   ]
  },
  {
   "cell_type": "markdown",
   "metadata": {},
   "source": [
    "## The \"dumb model\"\n",
    "First, let's look at a model that would always predict cme = 0.\n",
    "\n",
    "This model will have a great accuracy (since CME events are very rare) but a F1 score of 0.\n",
    "\n",
    "We will use this \"dumb model\" accuracy as an indicator for our next models's accuracy."
   ]
  },
  {
   "cell_type": "markdown",
   "metadata": {},
   "source": []
  }
 ],
 "metadata": {
  "kernelspec": {
   "display_name": "Python 3",
   "language": "python",
   "name": "python3"
  },
  "language_info": {
   "codemirror_mode": {
    "name": "ipython",
    "version": 3
   },
   "file_extension": ".py",
   "mimetype": "text/x-python",
   "name": "python",
   "nbconvert_exporter": "python",
   "pygments_lexer": "ipython3",
   "version": "3.11.5"
  }
 },
 "nbformat": 4,
 "nbformat_minor": 2
}
