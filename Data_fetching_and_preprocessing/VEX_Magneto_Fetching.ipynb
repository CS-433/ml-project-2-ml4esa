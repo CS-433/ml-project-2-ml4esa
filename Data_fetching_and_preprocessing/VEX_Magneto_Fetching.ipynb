{
 "cells": [
  {
   "cell_type": "code",
   "execution_count": 12,
   "outputs": [],
   "source": [
    "import pandas as pd\n",
    "import os\n",
    "from Data_fetching_and_preprocessing.vex_magneto_fetching import fetch_directories"
   ],
   "metadata": {
    "collapsed": false,
    "ExecuteTime": {
     "end_time": "2023-12-20T23:42:45.311956365Z",
     "start_time": "2023-12-20T23:42:45.275343377Z"
    }
   },
   "id": "fe3da109978decb7"
  },
  {
   "cell_type": "code",
   "execution_count": 13,
   "outputs": [
    {
     "name": "stdout",
     "output_type": "stream",
     "text": [
      "Fetching https://archives.esac.esa.int/psa/ftp/VENUS-EXPRESS/MAG/VEX-V-Y-MAG-4-EXT1-V1.0/DATA/\n",
      "Fetching https://archives.esac.esa.int/psa/ftp/VENUS-EXPRESS/MAG/VEX-V-Y-MAG-4-EXT2-V1.0/DATA/\n",
      "Fetching https://archives.esac.esa.int/psa/ftp/VENUS-EXPRESS/MAG/VEX-V-Y-MAG-4-EXT3-V1.0/DATA/\n",
      "Fetching https://archives.esac.esa.int/psa/ftp/VENUS-EXPRESS/MAG/VEX-V-Y-MAG-4-EXT4-V1.0/DATA/\n",
      "Fetching https://archives.esac.esa.int/psa/ftp/VENUS-EXPRESS/MAG/VEX-V-Y-MAG-4-V1.0/DATA/\n"
     ]
    }
   ],
   "source": [
    "pdir_names = [f\"VEX-V-Y-MAG-4-EXT{i}-V1.0/\" for i in range(1, 5)] + [f\"VEX-V-Y-MAG-4-V1.0/\"]\n",
    "pdirs = [f\"https://archives.esac.esa.int/psa/ftp/VENUS-EXPRESS/MAG/{pdir_name}DATA/\" for pdir_name in pdir_names]\n",
    "for pdir in pdirs:\n",
    "    print(f\"Fetching {pdir}\")\n",
    "    res = fetch_directories(pdir)"
   ],
   "metadata": {
    "collapsed": false,
    "ExecuteTime": {
     "end_time": "2023-12-20T23:42:47.218983986Z",
     "start_time": "2023-12-20T23:42:45.317926420Z"
    }
   },
   "id": "f6f115005bc06491"
  },
  {
   "cell_type": "markdown",
   "source": [
    "# Merge the fetched data"
   ],
   "metadata": {
    "collapsed": false
   },
   "id": "72917c57995f414f"
  },
  {
   "cell_type": "code",
   "execution_count": 14,
   "outputs": [
    {
     "data": {
      "text/plain": "['../DATA/VEX_MAGNETO/fetched_data/VEX-V-Y-MAG-4-V1.0.csv',\n '../DATA/VEX_MAGNETO/fetched_data/VEX-V-Y-MAG-4-EXT1-V1.0.csv',\n '../DATA/VEX_MAGNETO/fetched_data/VEX-V-Y-MAG-4-EXT2-V1.0.csv',\n '../DATA/VEX_MAGNETO/fetched_data/VEX-V-Y-MAG-4-EXT3-V1.0.csv',\n '../DATA/VEX_MAGNETO/fetched_data/VEX-V-Y-MAG-4-EXT4-V1.0.csv']"
     },
     "execution_count": 14,
     "metadata": {},
     "output_type": "execute_result"
    }
   ],
   "source": [
    "dir_path = \"../DATA/VEX_MAGNETO/fetched_data\"\n",
    "file_names = sorted(filter(lambda name: \"csv\" in name, os.listdir(dir_path)))\n",
    "file_names = [os.path.join(dir_path, name) for name in file_names]\n",
    "file_names = file_names[-1:] + file_names[:-1]\n",
    "file_names"
   ],
   "metadata": {
    "collapsed": false,
    "ExecuteTime": {
     "end_time": "2023-12-20T23:42:47.231469474Z",
     "start_time": "2023-12-20T23:42:47.223902307Z"
    }
   },
   "id": "adf724f160a47604"
  },
  {
   "cell_type": "code",
   "execution_count": 22,
   "outputs": [
    {
     "data": {
      "text/plain": "                            BX        BY        BZ         BT          XSC  \\\ndate                                                                         \n2006-04-24 00:00:00  12.357658 -1.304164 -3.332425  12.881274 -4451.055178   \n2006-04-24 00:05:00  12.868947 -0.980800 -3.360027  13.340680 -4202.246280   \n2006-04-24 00:10:00  12.857438 -0.871986 -3.487877  13.355384 -3954.000329   \n2006-04-24 00:15:00  12.898635 -0.684986 -2.885689  13.248405 -3705.057257   \n2006-04-24 00:20:00  12.766473 -0.517608 -2.217135  12.972905 -3453.676541   \n\n                             YSC           ZSC           RSC  \ndate                                                          \n2006-04-24 00:00:00 -3196.485753 -65466.762260  65695.760575  \n2006-04-24 00:05:00 -3138.377907 -65806.350827  66015.078600  \n2006-04-24 00:10:00 -3080.233288 -66137.913808  66327.612616  \n2006-04-24 00:15:00 -3021.761270 -66463.291041  66635.079608  \n2006-04-24 00:20:00 -2962.553108 -66784.717784  66939.596338  ",
      "text/html": "<div>\n<style scoped>\n    .dataframe tbody tr th:only-of-type {\n        vertical-align: middle;\n    }\n\n    .dataframe tbody tr th {\n        vertical-align: top;\n    }\n\n    .dataframe thead th {\n        text-align: right;\n    }\n</style>\n<table border=\"1\" class=\"dataframe\">\n  <thead>\n    <tr style=\"text-align: right;\">\n      <th></th>\n      <th>BX</th>\n      <th>BY</th>\n      <th>BZ</th>\n      <th>BT</th>\n      <th>XSC</th>\n      <th>YSC</th>\n      <th>ZSC</th>\n      <th>RSC</th>\n    </tr>\n    <tr>\n      <th>date</th>\n      <th></th>\n      <th></th>\n      <th></th>\n      <th></th>\n      <th></th>\n      <th></th>\n      <th></th>\n      <th></th>\n    </tr>\n  </thead>\n  <tbody>\n    <tr>\n      <th>2006-04-24 00:00:00</th>\n      <td>12.357658</td>\n      <td>-1.304164</td>\n      <td>-3.332425</td>\n      <td>12.881274</td>\n      <td>-4451.055178</td>\n      <td>-3196.485753</td>\n      <td>-65466.762260</td>\n      <td>65695.760575</td>\n    </tr>\n    <tr>\n      <th>2006-04-24 00:05:00</th>\n      <td>12.868947</td>\n      <td>-0.980800</td>\n      <td>-3.360027</td>\n      <td>13.340680</td>\n      <td>-4202.246280</td>\n      <td>-3138.377907</td>\n      <td>-65806.350827</td>\n      <td>66015.078600</td>\n    </tr>\n    <tr>\n      <th>2006-04-24 00:10:00</th>\n      <td>12.857438</td>\n      <td>-0.871986</td>\n      <td>-3.487877</td>\n      <td>13.355384</td>\n      <td>-3954.000329</td>\n      <td>-3080.233288</td>\n      <td>-66137.913808</td>\n      <td>66327.612616</td>\n    </tr>\n    <tr>\n      <th>2006-04-24 00:15:00</th>\n      <td>12.898635</td>\n      <td>-0.684986</td>\n      <td>-2.885689</td>\n      <td>13.248405</td>\n      <td>-3705.057257</td>\n      <td>-3021.761270</td>\n      <td>-66463.291041</td>\n      <td>66635.079608</td>\n    </tr>\n    <tr>\n      <th>2006-04-24 00:20:00</th>\n      <td>12.766473</td>\n      <td>-0.517608</td>\n      <td>-2.217135</td>\n      <td>12.972905</td>\n      <td>-3453.676541</td>\n      <td>-2962.553108</td>\n      <td>-66784.717784</td>\n      <td>66939.596338</td>\n    </tr>\n  </tbody>\n</table>\n</div>"
     },
     "execution_count": 22,
     "metadata": {},
     "output_type": "execute_result"
    }
   ],
   "source": [
    "df = pd.concat([pd.read_csv(file_name, index_col=0, parse_dates=True) for file_name in file_names])\n",
    "df = df.sort_index()\n",
    "df.head()"
   ],
   "metadata": {
    "collapsed": false,
    "ExecuteTime": {
     "end_time": "2023-12-20T23:56:05.851175462Z",
     "start_time": "2023-12-20T23:56:04.206129335Z"
    }
   },
   "id": "2954649f538b3b20"
  },
  {
   "cell_type": "code",
   "execution_count": 15,
   "outputs": [],
   "source": [
    "# Resample to make missing data appear as NaN\n",
    "df = df.resample(\"5min\").mean()\n",
    "\n",
    "# Save the data\n",
    "df.to_csv(\"../DATA/VEX_MAGNETO/VEX-V-Y-MAG-4.csv\")"
   ],
   "metadata": {
    "collapsed": false,
    "ExecuteTime": {
     "end_time": "2023-12-20T23:42:48.712925601Z",
     "start_time": "2023-12-20T23:42:48.709272924Z"
    }
   },
   "id": "5be98b00ba1ef98c"
  }
 ],
 "metadata": {
  "kernelspec": {
   "display_name": "Python 3",
   "language": "python",
   "name": "python3"
  },
  "language_info": {
   "codemirror_mode": {
    "name": "ipython",
    "version": 2
   },
   "file_extension": ".py",
   "mimetype": "text/x-python",
   "name": "python",
   "nbconvert_exporter": "python",
   "pygments_lexer": "ipython2",
   "version": "2.7.6"
  }
 },
 "nbformat": 4,
 "nbformat_minor": 5
}
