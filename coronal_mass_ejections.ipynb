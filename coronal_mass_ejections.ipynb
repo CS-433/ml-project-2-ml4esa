{
 "cells": [
  {
   "cell_type": "code",
   "execution_count": 87,
   "metadata": {},
   "outputs": [],
   "source": [
    "import pandas as pd\n",
    "from datetime import datetime"
   ]
  },
  {
   "cell_type": "markdown",
   "metadata": {},
   "source": [
    "## Load the data"
   ]
  },
  {
   "cell_type": "code",
   "execution_count": 88,
   "metadata": {},
   "outputs": [
    {
     "data": {
      "text/html": [
       "<div>\n",
       "<style scoped>\n",
       "    .dataframe tbody tr th:only-of-type {\n",
       "        vertical-align: middle;\n",
       "    }\n",
       "\n",
       "    .dataframe tbody tr th {\n",
       "        vertical-align: top;\n",
       "    }\n",
       "\n",
       "    .dataframe thead th {\n",
       "        text-align: right;\n",
       "    }\n",
       "</style>\n",
       "<table border=\"1\" class=\"dataframe\">\n",
       "  <thead>\n",
       "    <tr style=\"text-align: right;\">\n",
       "      <th></th>\n",
       "      <th>Year</th>\n",
       "      <th>DiscontinuityDOY</th>\n",
       "      <th>MCstartDOY</th>\n",
       "      <th>MCendDOY</th>\n",
       "      <th>FRstartDOY</th>\n",
       "      <th>FRendDOY</th>\n",
       "      <th>rH</th>\n",
       "    </tr>\n",
       "  </thead>\n",
       "  <tbody>\n",
       "    <tr>\n",
       "      <th>0</th>\n",
       "      <td>2007</td>\n",
       "      <td>44.200</td>\n",
       "      <td>44.6113</td>\n",
       "      <td>45.3981</td>\n",
       "      <td>44.6113</td>\n",
       "      <td>45.3981</td>\n",
       "      <td>0.725</td>\n",
       "    </tr>\n",
       "    <tr>\n",
       "      <th>1</th>\n",
       "      <td>2007</td>\n",
       "      <td>117.010</td>\n",
       "      <td>117.3700</td>\n",
       "      <td>117.6740</td>\n",
       "      <td>117.3700</td>\n",
       "      <td>117.6740</td>\n",
       "      <td>0.719</td>\n",
       "    </tr>\n",
       "    <tr>\n",
       "      <th>2</th>\n",
       "      <td>2007</td>\n",
       "      <td>126.030</td>\n",
       "      <td>126.3500</td>\n",
       "      <td>126.8700</td>\n",
       "      <td>126.3500</td>\n",
       "      <td>126.8700</td>\n",
       "      <td>0.719</td>\n",
       "    </tr>\n",
       "    <tr>\n",
       "      <th>3</th>\n",
       "      <td>2007</td>\n",
       "      <td>144.800</td>\n",
       "      <td>145.1500</td>\n",
       "      <td>145.8330</td>\n",
       "      <td>145.1500</td>\n",
       "      <td>145.8330</td>\n",
       "      <td>0.721</td>\n",
       "    </tr>\n",
       "    <tr>\n",
       "      <th>4</th>\n",
       "      <td>2007</td>\n",
       "      <td>167.094</td>\n",
       "      <td>167.0940</td>\n",
       "      <td>167.7200</td>\n",
       "      <td>167.0940</td>\n",
       "      <td>167.7200</td>\n",
       "      <td>0.724</td>\n",
       "    </tr>\n",
       "  </tbody>\n",
       "</table>\n",
       "</div>"
      ],
      "text/plain": [
       "   Year  DiscontinuityDOY  MCstartDOY  MCendDOY  FRstartDOY  FRendDOY     rH\n",
       "0  2007            44.200     44.6113   45.3981     44.6113   45.3981  0.725\n",
       "1  2007           117.010    117.3700  117.6740    117.3700  117.6740  0.719\n",
       "2  2007           126.030    126.3500  126.8700    126.3500  126.8700  0.719\n",
       "3  2007           144.800    145.1500  145.8330    145.1500  145.8330  0.721\n",
       "4  2007           167.094    167.0940  167.7200    167.0940  167.7200  0.724"
      ]
     },
     "metadata": {},
     "output_type": "display_data"
    }
   ],
   "source": [
    "data_path = \"DATA/\"\n",
    "vex_boundary_df = pd.read_csv(data_path+\"VEX-ICME-boundaries.csv\")\n",
    "\n",
    "display(vex_boundary_df.head())"
   ]
  },
  {
   "cell_type": "markdown",
   "metadata": {},
   "source": [
    "## Dates of Coronal Mass Ejection (CME)"
   ]
  },
  {
   "cell_type": "markdown",
   "metadata": {},
   "source": [
    "### Get the start & end time of a CME\n",
    "start time = start of discontinuity  \n",
    "end time = end of flux rope (FR)  "
   ]
  },
  {
   "cell_type": "code",
   "execution_count": 89,
   "metadata": {},
   "outputs": [],
   "source": [
    "# convert the year to a datetime object\n",
    "vex_boundary_df['Year'] = vex_boundary_df.Year.map(lambda t: datetime.strptime(str(t), '%Y'))\n",
    "\n",
    "def get_datetime_from_dec(doy, year):\n",
    "    # returns the datetime object associated with the day of the year & year\n",
    "    # make a timestamp because the data is not in a known format\n",
    "    return pd.to_datetime((float(str(doy)) - 1) * 24 * 3600, origin=year, unit='s')\n",
    "\n",
    "vex_boundary_df['start_time'] = vex_boundary_df.apply(lambda t: get_datetime_from_dec(t.DiscontinuityDOY, t.Year), axis=1)\n",
    "vex_boundary_df['end_time'] = vex_boundary_df.apply(lambda t: get_datetime_from_dec(t.MCendDOY, t.Year), axis=1)"
   ]
  },
  {
   "cell_type": "code",
   "execution_count": 90,
   "metadata": {},
   "outputs": [
    {
     "data": {
      "text/html": [
       "<div>\n",
       "<style scoped>\n",
       "    .dataframe tbody tr th:only-of-type {\n",
       "        vertical-align: middle;\n",
       "    }\n",
       "\n",
       "    .dataframe tbody tr th {\n",
       "        vertical-align: top;\n",
       "    }\n",
       "\n",
       "    .dataframe thead th {\n",
       "        text-align: right;\n",
       "    }\n",
       "</style>\n",
       "<table border=\"1\" class=\"dataframe\">\n",
       "  <thead>\n",
       "    <tr style=\"text-align: right;\">\n",
       "      <th></th>\n",
       "      <th>start_time</th>\n",
       "      <th>end_time</th>\n",
       "    </tr>\n",
       "  </thead>\n",
       "  <tbody>\n",
       "    <tr>\n",
       "      <th>0</th>\n",
       "      <td>2007-02-13 04:48:00.000</td>\n",
       "      <td>2007-02-14 09:33:15.840</td>\n",
       "    </tr>\n",
       "    <tr>\n",
       "      <th>1</th>\n",
       "      <td>2007-04-27 00:14:24.000</td>\n",
       "      <td>2007-04-27 16:10:33.600</td>\n",
       "    </tr>\n",
       "    <tr>\n",
       "      <th>2</th>\n",
       "      <td>2007-05-06 00:43:12.000</td>\n",
       "      <td>2007-05-06 20:52:48.000</td>\n",
       "    </tr>\n",
       "    <tr>\n",
       "      <th>3</th>\n",
       "      <td>2007-05-24 19:12:00.000</td>\n",
       "      <td>2007-05-25 19:59:31.200</td>\n",
       "    </tr>\n",
       "    <tr>\n",
       "      <th>4</th>\n",
       "      <td>2007-06-16 02:15:21.600</td>\n",
       "      <td>2007-06-16 17:16:48.000</td>\n",
       "    </tr>\n",
       "  </tbody>\n",
       "</table>\n",
       "</div>"
      ],
      "text/plain": [
       "               start_time                end_time\n",
       "0 2007-02-13 04:48:00.000 2007-02-14 09:33:15.840\n",
       "1 2007-04-27 00:14:24.000 2007-04-27 16:10:33.600\n",
       "2 2007-05-06 00:43:12.000 2007-05-06 20:52:48.000\n",
       "3 2007-05-24 19:12:00.000 2007-05-25 19:59:31.200\n",
       "4 2007-06-16 02:15:21.600 2007-06-16 17:16:48.000"
      ]
     },
     "metadata": {},
     "output_type": "display_data"
    }
   ],
   "source": [
    "columns_to_keep = ['start_time', 'end_time']\n",
    "\n",
    "# Keep only the columns of the start and end of a CME\n",
    "vex_boundary_df = vex_boundary_df.drop(columns=vex_boundary_df.columns.difference(columns_to_keep))\n",
    "\n",
    "display(vex_boundary_df.head())"
   ]
  },
  {
   "cell_type": "markdown",
   "metadata": {},
   "source": [
    "### Exporting the CSV file with start and end time of a CME"
   ]
  },
  {
   "cell_type": "code",
   "execution_count": 91,
   "metadata": {},
   "outputs": [],
   "source": [
    "csv_file_path = data_path + \"VEX_CME_date_time.csv\"\n",
    "vex_boundary_df.to_csv(csv_file_path, index=False)"
   ]
  }
 ],
 "metadata": {
  "kernelspec": {
   "display_name": "Python 3",
   "language": "python",
   "name": "python3"
  },
  "language_info": {
   "codemirror_mode": {
    "name": "ipython",
    "version": 3
   },
   "file_extension": ".py",
   "mimetype": "text/x-python",
   "name": "python",
   "nbconvert_exporter": "python",
   "pygments_lexer": "ipython3",
   "version": "3.10.12"
  }
 },
 "nbformat": 4,
 "nbformat_minor": 2
}
