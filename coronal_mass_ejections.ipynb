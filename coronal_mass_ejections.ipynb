{
 "cells": [
  {
   "cell_type": "code",
   "execution_count": null,
   "metadata": {},
   "outputs": [],
   "source": [
    "import pandas as pd\n",
    "import numpy as np\n",
    "\n",
    "# data processing\n",
    "from datetime import datetime, date, time, timedelta\n",
    "from dateutil.parser import parse\n",
    "\n",
    "# plotting\n",
    "import seaborn as sns\n",
    "import matplotlib.pyplot as plt\n",
    "\n",
    "# regression / matching\n",
    "import statsmodels.formula.api as smf"
   ]
  },
  {
   "cell_type": "markdown",
   "metadata": {},
   "source": [
    "## Load the data"
   ]
  },
  {
   "cell_type": "code",
   "execution_count": null,
   "metadata": {},
   "outputs": [],
   "source": [
    "data_path = \"DATA/\"\n",
    "\n",
    "vex_boundary_df = pd.read_csv(data_path+\"VEX-ICME-boundaries.csv\")"
   ]
  },
  {
   "cell_type": "markdown",
   "metadata": {},
   "source": [
    "## Dates of CME"
   ]
  },
  {
   "cell_type": "markdown",
   "metadata": {},
   "source": [
    "CME = coronal mass ejection\n",
    "\n",
    "start time = start of discontinuity\n",
    "\n",
    "end time = end of flux rope (FR)\n",
    "\n",
    "QUESTION : Are these the right start/end indicators ?"
   ]
  },
  {
   "cell_type": "code",
   "execution_count": 63,
   "metadata": {},
   "outputs": [],
   "source": [
    "def create_date(year, doy):\n",
    "    year = int(year)\n",
    "    base_date = datetime(year, 1, 1)  # January 1st of the given year\n",
    "    delta_days = int(doy) - 1  # Subtract 1 as the DOY starts from 1\n",
    "    delta_seconds = (doy - int(doy)) * 86400  # Convert decimal part to seconds\n",
    "    delta = timedelta(days=delta_days, seconds=delta_seconds)\n",
    "    result_date = base_date + delta\n",
    "\n",
    "    #match the specified format\n",
    "    formatted_date = result_date.strftime('%Y-%m-%d %H:%M:%S.%f')\n",
    "    return formatted_date\n",
    "\n",
    "def create_start_time(row):\n",
    "    return create_date(row['Year'], row['DiscontinuityDOY'])\n",
    "\n",
    "def create_end_time(row):\n",
    "    return create_date(row['Year'], row['FRendDOY'])"
   ]
  },
  {
   "cell_type": "markdown",
   "metadata": {},
   "source": [
    "Sanity check :"
   ]
  },
  {
   "cell_type": "code",
   "execution_count": 64,
   "metadata": {},
   "outputs": [
    {
     "data": {
      "text/plain": [
       "'2007-02-13 04:48:00.000000'"
      ]
     },
     "execution_count": 64,
     "metadata": {},
     "output_type": "execute_result"
    }
   ],
   "source": [
    "create_start_time(vex_boundary_df.iloc[0])"
   ]
  },
  {
   "cell_type": "markdown",
   "metadata": {},
   "source": [
    "Let's create a dataset with start/end dates of coronal mass ejections :"
   ]
  },
  {
   "cell_type": "code",
   "execution_count": 75,
   "metadata": {},
   "outputs": [
    {
     "data": {
      "text/html": [
       "<div>\n",
       "<style scoped>\n",
       "    .dataframe tbody tr th:only-of-type {\n",
       "        vertical-align: middle;\n",
       "    }\n",
       "\n",
       "    .dataframe tbody tr th {\n",
       "        vertical-align: top;\n",
       "    }\n",
       "\n",
       "    .dataframe thead th {\n",
       "        text-align: right;\n",
       "    }\n",
       "</style>\n",
       "<table border=\"1\" class=\"dataframe\">\n",
       "  <thead>\n",
       "    <tr style=\"text-align: right;\">\n",
       "      <th></th>\n",
       "      <th>start_time</th>\n",
       "      <th>end_time</th>\n",
       "    </tr>\n",
       "  </thead>\n",
       "  <tbody>\n",
       "    <tr>\n",
       "      <th>0</th>\n",
       "      <td>2007-02-13 04:48:00.000000</td>\n",
       "      <td>2007-02-14 09:33:15.840000</td>\n",
       "    </tr>\n",
       "    <tr>\n",
       "      <th>1</th>\n",
       "      <td>2007-04-27 00:14:24.000000</td>\n",
       "      <td>2007-04-27 16:10:33.600000</td>\n",
       "    </tr>\n",
       "    <tr>\n",
       "      <th>2</th>\n",
       "      <td>2007-05-06 00:43:12.000000</td>\n",
       "      <td>2007-05-06 20:52:48.000000</td>\n",
       "    </tr>\n",
       "    <tr>\n",
       "      <th>3</th>\n",
       "      <td>2007-05-24 19:12:00.000000</td>\n",
       "      <td>2007-05-25 19:59:31.200000</td>\n",
       "    </tr>\n",
       "    <tr>\n",
       "      <th>4</th>\n",
       "      <td>2007-06-16 02:15:21.600000</td>\n",
       "      <td>2007-06-16 17:16:48.000000</td>\n",
       "    </tr>\n",
       "  </tbody>\n",
       "</table>\n",
       "</div>"
      ],
      "text/plain": [
       "                   start_time                    end_time\n",
       "0  2007-02-13 04:48:00.000000  2007-02-14 09:33:15.840000\n",
       "1  2007-04-27 00:14:24.000000  2007-04-27 16:10:33.600000\n",
       "2  2007-05-06 00:43:12.000000  2007-05-06 20:52:48.000000\n",
       "3  2007-05-24 19:12:00.000000  2007-05-25 19:59:31.200000\n",
       "4  2007-06-16 02:15:21.600000  2007-06-16 17:16:48.000000"
      ]
     },
     "execution_count": 75,
     "metadata": {},
     "output_type": "execute_result"
    }
   ],
   "source": [
    "vex_boundary_df.head()"
   ]
  },
  {
   "cell_type": "code",
   "execution_count": 70,
   "metadata": {},
   "outputs": [],
   "source": [
    "vex_boundary_df['start_time'] = vex_boundary_df.apply(create_start_time, axis=1)\n",
    "vex_boundary_df['end_time'] = vex_boundary_df.apply(create_end_time, axis=1)"
   ]
  },
  {
   "cell_type": "code",
   "execution_count": 74,
   "metadata": {},
   "outputs": [],
   "source": [
    "columns_to_keep = ['start_time', 'end_time']\n",
    "\n",
    "# Drop columns not in the list\n",
    "vex_boundary_df = vex_boundary_df.drop(columns=vex_boundary_df.columns.difference(columns_to_keep))"
   ]
  },
  {
   "cell_type": "markdown",
   "metadata": {},
   "source": [
    "We export our dataset as CSV :"
   ]
  },
  {
   "cell_type": "code",
   "execution_count": 76,
   "metadata": {},
   "outputs": [],
   "source": [
    "csv_file_path = data_path + \"CME_date_time.csv\"\n",
    "vex_boundary_df.to_csv(csv_file_path, index=False)"
   ]
  }
 ],
 "metadata": {
  "kernelspec": {
   "display_name": "Python 3",
   "language": "python",
   "name": "python3"
  },
  "language_info": {
   "codemirror_mode": {
    "name": "ipython",
    "version": 3
   },
   "file_extension": ".py",
   "mimetype": "text/x-python",
   "name": "python",
   "nbconvert_exporter": "python",
   "pygments_lexer": "ipython3",
   "version": "3.10.12"
  }
 },
 "nbformat": 4,
 "nbformat_minor": 2
}
