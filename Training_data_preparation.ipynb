{
 "cells": [
  {
   "cell_type": "code",
   "execution_count": 1,
   "metadata": {},
   "outputs": [],
   "source": [
    "# data processing\n",
    "import pandas as pd\n",
    "import numpy as np\n",
    "from datetime import datetime\n",
    "from datetime import timedelta\n",
    "\n",
    "# plotting\n",
    "import seaborn as sns\n",
    "import matplotlib.pyplot as plt\n",
    "\n",
    "# regression / matching\n",
    "import statsmodels.formula.api as smf"
   ]
  },
  {
   "cell_type": "markdown",
   "metadata": {},
   "source": [
    "## Load the data"
   ]
  },
  {
   "cell_type": "code",
   "execution_count": 2,
   "metadata": {},
   "outputs": [],
   "source": [
    "data_path = \"DATA/VENUS_EXPRESS/\"\n",
    "\n",
    "vex_df = pd.read_csv(data_path+\"VEX_NDMW0D0A_2023_01_11_12_55_55.900.txt\", sep='\\t')"
   ]
  },
  {
   "cell_type": "markdown",
   "metadata": {},
   "source": [
    "## Adding EDAC data\n",
    "We calculate the counts per day and remove the resetting of the counter at 0 for EDAC:"
   ]
  },
  {
   "cell_type": "code",
   "execution_count": 3,
   "metadata": {},
   "outputs": [],
   "source": [
    "#vex_df['DATE_TIME'] = vex_df.DATE_TIME.apply(lambda d: datetime.strptime(d, '%Y-%m-%d %H:%M:%S.%f')) #takes more time for the graphs to show\n",
    "vex_df['EDAC'] = vex_df['NDMW0D0A'].diff().bfill().astype(int).map(lambda x: max(0, x))\n",
    "vex_df.drop('NDMW0D0A', axis=1, inplace=True)"
   ]
  },
  {
   "cell_type": "markdown",
   "metadata": {},
   "source": [
    "Since the magneto data is grouped by hour, we aggregate the EDAC data by hour too:"
   ]
  },
  {
   "cell_type": "code",
   "execution_count": 4,
   "metadata": {},
   "outputs": [],
   "source": [
    "# first we group by hour:\n",
    "vex_df['DATE_TIME'] = pd.to_datetime(vex_df['DATE_TIME'])\n",
    "hourly_grouped = vex_df.groupby(pd.Grouper(key='DATE_TIME', freq='H'))\n"
   ]
  },
  {
   "cell_type": "code",
   "execution_count": 5,
   "metadata": {},
   "outputs": [
    {
     "name": "stdout",
     "output_type": "stream",
     "text": [
      "                 DATE_TIME  EDAC\n",
      "0  2005-11-09 00:09:04.575     0\n",
      "1  2005-11-09 00:10:08.575     0\n",
      "2  2005-11-09 00:11:12.576     0\n",
      "3  2005-11-09 00:12:16.576     0\n",
      "4  2005-11-09 00:13:20.577     0\n",
      "5  2005-11-09 00:14:24.577     0\n",
      "6  2005-11-09 00:15:28.577     0\n",
      "7  2005-11-09 00:16:32.578     0\n",
      "8  2005-11-09 00:17:36.578     0\n",
      "9  2005-11-09 00:18:40.579     0\n",
      "10 2005-11-09 00:19:44.579     0\n",
      "11 2005-11-09 00:20:48.579     0\n",
      "12 2005-11-09 00:21:52.580     0\n",
      "13 2005-11-09 00:22:56.580     0\n",
      "14 2005-11-09 00:24:00.581     0\n",
      "15 2005-11-09 00:25:04.581     0\n",
      "16 2005-11-09 00:26:08.581     0\n",
      "17 2005-11-09 00:27:12.582     0\n",
      "18 2005-11-09 00:28:16.582     0\n",
      "19 2005-11-09 00:29:20.583     0\n",
      "20 2005-11-09 00:30:24.583     0\n",
      "21 2005-11-09 00:31:28.583     0\n",
      "22 2005-11-09 00:32:32.584     0\n",
      "23 2005-11-09 00:33:36.584     0\n",
      "24 2005-11-09 00:34:40.585     0\n",
      "25 2005-11-09 00:35:44.585     0\n",
      "26 2005-11-09 00:36:48.585     0\n",
      "27 2005-11-09 00:37:52.586     0\n",
      "28 2005-11-09 00:38:56.586     0\n",
      "29 2005-11-09 00:40:00.587     0\n",
      "30 2005-11-09 00:41:04.587     0\n",
      "31 2005-11-09 00:42:08.587     0\n",
      "32 2005-11-09 00:43:12.588     0\n",
      "33 2005-11-09 00:44:16.588     0\n",
      "34 2005-11-09 00:45:20.589     0\n",
      "35 2005-11-09 00:46:24.589     0\n",
      "36 2005-11-09 00:47:28.589     0\n",
      "37 2005-11-09 00:48:32.590     0\n",
      "38 2005-11-09 00:49:36.590     0\n",
      "39 2005-11-09 00:50:40.591     0\n",
      "40 2005-11-09 00:51:44.591     0\n",
      "41 2005-11-09 00:52:48.591     0\n",
      "42 2005-11-09 00:53:52.592     0\n",
      "43 2005-11-09 00:54:56.592     0\n",
      "44 2005-11-09 00:56:00.593     0\n",
      "45 2005-11-09 00:57:04.593     0\n",
      "46 2005-11-09 00:58:08.593     0\n",
      "47 2005-11-09 00:59:12.594     0\n"
     ]
    }
   ],
   "source": [
    "# sanity check:\n",
    "first_group = hourly_grouped.get_group(list(hourly_grouped.groups.keys())[0])\n",
    "print(first_group)"
   ]
  },
  {
   "cell_type": "code",
   "execution_count": 6,
   "metadata": {},
   "outputs": [],
   "source": [
    "# then we agregate the groups:\n",
    "hourly_vex_df = hourly_grouped.agg({'DATE_TIME': lambda x: x.dt.round('H').min(),\n",
    "                                    'EDAC': 'sum'})"
   ]
  },
  {
   "cell_type": "code",
   "execution_count": 7,
   "metadata": {},
   "outputs": [
    {
     "name": "stdout",
     "output_type": "stream",
     "text": [
      "False\n"
     ]
    }
   ],
   "source": [
    "# we drop lines containing NaNs, then check that no Nans are left in our dataframe:\n",
    "hourly_vex_df.dropna(inplace=True)\n",
    "\n",
    "has_nan = hourly_vex_df.isna().any().any()\n",
    "print(has_nan)"
   ]
  },
  {
   "cell_type": "code",
   "execution_count": 8,
   "metadata": {},
   "outputs": [
    {
     "data": {
      "text/html": [
       "<div>\n",
       "<style scoped>\n",
       "    .dataframe tbody tr th:only-of-type {\n",
       "        vertical-align: middle;\n",
       "    }\n",
       "\n",
       "    .dataframe tbody tr th {\n",
       "        vertical-align: top;\n",
       "    }\n",
       "\n",
       "    .dataframe thead th {\n",
       "        text-align: right;\n",
       "    }\n",
       "</style>\n",
       "<table border=\"1\" class=\"dataframe\">\n",
       "  <thead>\n",
       "    <tr style=\"text-align: right;\">\n",
       "      <th></th>\n",
       "      <th>DATE_TIME</th>\n",
       "      <th>EDAC</th>\n",
       "    </tr>\n",
       "    <tr>\n",
       "      <th>DATE_TIME</th>\n",
       "      <th></th>\n",
       "      <th></th>\n",
       "    </tr>\n",
       "  </thead>\n",
       "  <tbody>\n",
       "    <tr>\n",
       "      <th>2005-11-09 00:00:00</th>\n",
       "      <td>2005-11-09 00:00:00</td>\n",
       "      <td>0</td>\n",
       "    </tr>\n",
       "    <tr>\n",
       "      <th>2005-11-09 01:00:00</th>\n",
       "      <td>2005-11-09 01:00:00</td>\n",
       "      <td>0</td>\n",
       "    </tr>\n",
       "    <tr>\n",
       "      <th>2005-11-09 02:00:00</th>\n",
       "      <td>2005-11-09 02:00:00</td>\n",
       "      <td>0</td>\n",
       "    </tr>\n",
       "    <tr>\n",
       "      <th>2005-11-09 03:00:00</th>\n",
       "      <td>2005-11-09 03:00:00</td>\n",
       "      <td>0</td>\n",
       "    </tr>\n",
       "    <tr>\n",
       "      <th>2005-11-09 05:00:00</th>\n",
       "      <td>2005-11-09 05:00:00</td>\n",
       "      <td>1</td>\n",
       "    </tr>\n",
       "  </tbody>\n",
       "</table>\n",
       "</div>"
      ],
      "text/plain": [
       "                              DATE_TIME  EDAC\n",
       "DATE_TIME                                    \n",
       "2005-11-09 00:00:00 2005-11-09 00:00:00     0\n",
       "2005-11-09 01:00:00 2005-11-09 01:00:00     0\n",
       "2005-11-09 02:00:00 2005-11-09 02:00:00     0\n",
       "2005-11-09 03:00:00 2005-11-09 03:00:00     0\n",
       "2005-11-09 05:00:00 2005-11-09 05:00:00     1"
      ]
     },
     "execution_count": 8,
     "metadata": {},
     "output_type": "execute_result"
    }
   ],
   "source": [
    "# sanity check:\n",
    "hourly_vex_df.head()"
   ]
  },
  {
   "cell_type": "markdown",
   "metadata": {},
   "source": [
    "## Adding CME data\n",
    "Now let's add the events of CME :"
   ]
  },
  {
   "cell_type": "code",
   "execution_count": 9,
   "metadata": {},
   "outputs": [],
   "source": [
    "vex_cme_df = pd.read_csv(data_path+\"VEX_CME_date_time.csv\")\n",
    "hourly_vex_df['cme'] = 0\n",
    "\n",
    "for index, row in vex_cme_df.iterrows():\n",
    "    start_time = pd.to_datetime(row['start_time']).round('H')\n",
    "    end_time = pd.to_datetime(row['end_time']).round('H')\n",
    "    \n",
    "    # Set 'cme' column values to 1 between start_time and end_time\n",
    "    hourly_vex_df.loc[(hourly_vex_df.index >= start_time) & (hourly_vex_df.index <= end_time), 'cme'] = 1"
   ]
  },
  {
   "cell_type": "code",
   "execution_count": 10,
   "metadata": {},
   "outputs": [
    {
     "data": {
      "text/html": [
       "<div>\n",
       "<style scoped>\n",
       "    .dataframe tbody tr th:only-of-type {\n",
       "        vertical-align: middle;\n",
       "    }\n",
       "\n",
       "    .dataframe tbody tr th {\n",
       "        vertical-align: top;\n",
       "    }\n",
       "\n",
       "    .dataframe thead th {\n",
       "        text-align: right;\n",
       "    }\n",
       "</style>\n",
       "<table border=\"1\" class=\"dataframe\">\n",
       "  <thead>\n",
       "    <tr style=\"text-align: right;\">\n",
       "      <th></th>\n",
       "      <th>DATE_TIME</th>\n",
       "      <th>EDAC</th>\n",
       "      <th>cme</th>\n",
       "    </tr>\n",
       "    <tr>\n",
       "      <th>DATE_TIME</th>\n",
       "      <th></th>\n",
       "      <th></th>\n",
       "      <th></th>\n",
       "    </tr>\n",
       "  </thead>\n",
       "  <tbody>\n",
       "    <tr>\n",
       "      <th>2005-11-09 00:00:00</th>\n",
       "      <td>2005-11-09 00:00:00</td>\n",
       "      <td>0</td>\n",
       "      <td>0</td>\n",
       "    </tr>\n",
       "    <tr>\n",
       "      <th>2005-11-09 01:00:00</th>\n",
       "      <td>2005-11-09 01:00:00</td>\n",
       "      <td>0</td>\n",
       "      <td>0</td>\n",
       "    </tr>\n",
       "    <tr>\n",
       "      <th>2005-11-09 02:00:00</th>\n",
       "      <td>2005-11-09 02:00:00</td>\n",
       "      <td>0</td>\n",
       "      <td>0</td>\n",
       "    </tr>\n",
       "    <tr>\n",
       "      <th>2005-11-09 03:00:00</th>\n",
       "      <td>2005-11-09 03:00:00</td>\n",
       "      <td>0</td>\n",
       "      <td>0</td>\n",
       "    </tr>\n",
       "    <tr>\n",
       "      <th>2005-11-09 05:00:00</th>\n",
       "      <td>2005-11-09 05:00:00</td>\n",
       "      <td>1</td>\n",
       "      <td>0</td>\n",
       "    </tr>\n",
       "  </tbody>\n",
       "</table>\n",
       "</div>"
      ],
      "text/plain": [
       "                              DATE_TIME  EDAC  cme\n",
       "DATE_TIME                                         \n",
       "2005-11-09 00:00:00 2005-11-09 00:00:00     0    0\n",
       "2005-11-09 01:00:00 2005-11-09 01:00:00     0    0\n",
       "2005-11-09 02:00:00 2005-11-09 02:00:00     0    0\n",
       "2005-11-09 03:00:00 2005-11-09 03:00:00     0    0\n",
       "2005-11-09 05:00:00 2005-11-09 05:00:00     1    0"
      ]
     },
     "execution_count": 10,
     "metadata": {},
     "output_type": "execute_result"
    }
   ],
   "source": [
    "# sanity check:\n",
    "hourly_vex_df.head()"
   ]
  },
  {
   "cell_type": "markdown",
   "metadata": {},
   "source": [
    "##### Parenthesis : class imbalance\n",
    "Let's have a look at the proportion of CME events: we see that only 1.8% of our data corresponds to a CME.\n",
    "\n",
    "Since we have this huge class imbalance, we can expect the models we will train to be biased towards predicting no CMEs.\n",
    "We will have to implement various methods to mitigate this class imbalance."
   ]
  },
  {
   "cell_type": "code",
   "execution_count": 11,
   "metadata": {},
   "outputs": [
    {
     "name": "stdout",
     "output_type": "stream",
     "text": [
      "CME count: 1402\n",
      "Total count: 77852\n",
      "Percentage of CME events: 1.80%\n"
     ]
    }
   ],
   "source": [
    "cme_count = hourly_vex_df[hourly_vex_df['cme'] == 1].shape[0]\n",
    "total_count = len(hourly_vex_df)\n",
    "percentage = (cme_count / total_count) * 100\n",
    "\n",
    "print(f\"CME count: {cme_count}\")\n",
    "print(f\"Total count: {total_count}\")\n",
    "print(f\"Percentage of CME events: {percentage:.2f}%\")\n"
   ]
  },
  {
   "cell_type": "markdown",
   "metadata": {},
   "source": [
    "End of parenthesis, back to our dataframe:"
   ]
  },
  {
   "cell_type": "code",
   "execution_count": 12,
   "metadata": {},
   "outputs": [
    {
     "data": {
      "text/html": [
       "<div>\n",
       "<style scoped>\n",
       "    .dataframe tbody tr th:only-of-type {\n",
       "        vertical-align: middle;\n",
       "    }\n",
       "\n",
       "    .dataframe tbody tr th {\n",
       "        vertical-align: top;\n",
       "    }\n",
       "\n",
       "    .dataframe thead th {\n",
       "        text-align: right;\n",
       "    }\n",
       "</style>\n",
       "<table border=\"1\" class=\"dataframe\">\n",
       "  <thead>\n",
       "    <tr style=\"text-align: right;\">\n",
       "      <th></th>\n",
       "      <th>DATE_TIME</th>\n",
       "      <th>EDAC</th>\n",
       "      <th>cme</th>\n",
       "    </tr>\n",
       "    <tr>\n",
       "      <th>DATE_TIME</th>\n",
       "      <th></th>\n",
       "      <th></th>\n",
       "      <th></th>\n",
       "    </tr>\n",
       "  </thead>\n",
       "  <tbody>\n",
       "    <tr>\n",
       "      <th>2005-11-09 00:00:00</th>\n",
       "      <td>2005-11-09 00:00:00</td>\n",
       "      <td>0</td>\n",
       "      <td>0</td>\n",
       "    </tr>\n",
       "    <tr>\n",
       "      <th>2005-11-09 01:00:00</th>\n",
       "      <td>2005-11-09 01:00:00</td>\n",
       "      <td>0</td>\n",
       "      <td>0</td>\n",
       "    </tr>\n",
       "    <tr>\n",
       "      <th>2005-11-09 02:00:00</th>\n",
       "      <td>2005-11-09 02:00:00</td>\n",
       "      <td>0</td>\n",
       "      <td>0</td>\n",
       "    </tr>\n",
       "    <tr>\n",
       "      <th>2005-11-09 03:00:00</th>\n",
       "      <td>2005-11-09 03:00:00</td>\n",
       "      <td>0</td>\n",
       "      <td>0</td>\n",
       "    </tr>\n",
       "    <tr>\n",
       "      <th>2005-11-09 05:00:00</th>\n",
       "      <td>2005-11-09 05:00:00</td>\n",
       "      <td>1</td>\n",
       "      <td>0</td>\n",
       "    </tr>\n",
       "  </tbody>\n",
       "</table>\n",
       "</div>"
      ],
      "text/plain": [
       "                              DATE_TIME  EDAC  cme\n",
       "DATE_TIME                                         \n",
       "2005-11-09 00:00:00 2005-11-09 00:00:00     0    0\n",
       "2005-11-09 01:00:00 2005-11-09 01:00:00     0    0\n",
       "2005-11-09 02:00:00 2005-11-09 02:00:00     0    0\n",
       "2005-11-09 03:00:00 2005-11-09 03:00:00     0    0\n",
       "2005-11-09 05:00:00 2005-11-09 05:00:00     1    0"
      ]
     },
     "execution_count": 12,
     "metadata": {},
     "output_type": "execute_result"
    }
   ],
   "source": [
    "# sanity check:\n",
    "hourly_vex_df.head()\n"
   ]
  },
  {
   "cell_type": "markdown",
   "metadata": {},
   "source": [
    "We save this data in a first csv that we will use to train our models (predict CME events based on EDAC):"
   ]
  },
  {
   "cell_type": "code",
   "execution_count": 13,
   "metadata": {},
   "outputs": [],
   "source": [
    "train_file_path = \"DATA/training_data/\"\n",
    "hourly_vex_df.to_csv(train_file_path+'VEX_edac_labeled.csv', index=False)"
   ]
  },
  {
   "cell_type": "markdown",
   "metadata": {},
   "source": [
    "## Adding magneto data\n",
    "Now let's add the magneto data to a second dataframe (to assess the performance of our predictor: we will see how much gap in performance we have if we predict CME events based on EDAC and magneto data):"
   ]
  },
  {
   "cell_type": "code",
   "execution_count": 45,
   "metadata": {},
   "outputs": [],
   "source": [
    "# Load magneto data\n",
    "magneto_path = \"DATA/VEX_MAGNETO/VEX-V-Y-MAG-4.csv\"\n",
    "magneto_df = pd.read_csv(magneto_path)"
   ]
  },
  {
   "cell_type": "code",
   "execution_count": 46,
   "metadata": {},
   "outputs": [],
   "source": [
    "# we also set the date as index to merge it with our EDAC dataframe\n",
    "magneto_df.rename(columns={'date': 'DATE_TIME'}, inplace=True)\n",
    "magneto_df.set_index('DATE_TIME', inplace=True)\n",
    "\n",
    "# we convert the index to datetime to be able to merge it with our EDAC dataframe\n",
    "magneto_df.index = pd.to_datetime(magneto_df.index)"
   ]
  },
  {
   "cell_type": "code",
   "execution_count": 51,
   "metadata": {},
   "outputs": [
    {
     "name": "stdout",
     "output_type": "stream",
     "text": [
      "magneto_df index type: datetime64[ns]\n",
      "hourly_vex_df index type: datetime64[ns]\n"
     ]
    }
   ],
   "source": [
    "# sanity check:\n",
    "\n",
    "print(\"magneto_df index type:\", magneto_df.index.dtype)\n",
    "print(\"hourly_vex_df index type:\", hourly_vex_df.index.dtype)"
   ]
  },
  {
   "cell_type": "code",
   "execution_count": 48,
   "metadata": {},
   "outputs": [
    {
     "data": {
      "text/html": [
       "<div>\n",
       "<style scoped>\n",
       "    .dataframe tbody tr th:only-of-type {\n",
       "        vertical-align: middle;\n",
       "    }\n",
       "\n",
       "    .dataframe tbody tr th {\n",
       "        vertical-align: top;\n",
       "    }\n",
       "\n",
       "    .dataframe thead th {\n",
       "        text-align: right;\n",
       "    }\n",
       "</style>\n",
       "<table border=\"1\" class=\"dataframe\">\n",
       "  <thead>\n",
       "    <tr style=\"text-align: right;\">\n",
       "      <th></th>\n",
       "      <th>BX</th>\n",
       "      <th>BY</th>\n",
       "      <th>BZ</th>\n",
       "      <th>BT</th>\n",
       "      <th>XSC</th>\n",
       "      <th>YSC</th>\n",
       "      <th>ZSC</th>\n",
       "      <th>RSC</th>\n",
       "    </tr>\n",
       "    <tr>\n",
       "      <th>DATE_TIME</th>\n",
       "      <th></th>\n",
       "      <th></th>\n",
       "      <th></th>\n",
       "      <th></th>\n",
       "      <th></th>\n",
       "      <th></th>\n",
       "      <th></th>\n",
       "      <th></th>\n",
       "    </tr>\n",
       "  </thead>\n",
       "  <tbody>\n",
       "    <tr>\n",
       "      <th>2006-04-24 00:00:00</th>\n",
       "      <td>901.170761</td>\n",
       "      <td>887.078621</td>\n",
       "      <td>886.592311</td>\n",
       "      <td>901.582144</td>\n",
       "      <td>-3076.407309</td>\n",
       "      <td>-2872.475157</td>\n",
       "      <td>-67213.437339</td>\n",
       "      <td>67351.778022</td>\n",
       "    </tr>\n",
       "    <tr>\n",
       "      <th>2006-04-24 01:00:00</th>\n",
       "      <td>122.866044</td>\n",
       "      <td>107.284161</td>\n",
       "      <td>109.654450</td>\n",
       "      <td>123.584061</td>\n",
       "      <td>-56.789406</td>\n",
       "      <td>-2147.243992</td>\n",
       "      <td>-70446.888658</td>\n",
       "      <td>70485.459712</td>\n",
       "    </tr>\n",
       "    <tr>\n",
       "      <th>2006-04-24 02:00:00</th>\n",
       "      <td>230.881530</td>\n",
       "      <td>218.765052</td>\n",
       "      <td>216.810378</td>\n",
       "      <td>234.327848</td>\n",
       "      <td>2966.294489</td>\n",
       "      <td>-1402.796963</td>\n",
       "      <td>-72831.017578</td>\n",
       "      <td>72910.164160</td>\n",
       "    </tr>\n",
       "    <tr>\n",
       "      <th>2006-04-24 03:00:00</th>\n",
       "      <td>451.576201</td>\n",
       "      <td>437.057761</td>\n",
       "      <td>440.662270</td>\n",
       "      <td>455.704559</td>\n",
       "      <td>5959.518042</td>\n",
       "      <td>-649.828442</td>\n",
       "      <td>-74422.302150</td>\n",
       "      <td>74668.263456</td>\n",
       "    </tr>\n",
       "    <tr>\n",
       "      <th>2006-04-24 04:00:00</th>\n",
       "      <td>560.491882</td>\n",
       "      <td>547.190941</td>\n",
       "      <td>554.806417</td>\n",
       "      <td>566.054039</td>\n",
       "      <td>8894.553522</td>\n",
       "      <td>103.003431</td>\n",
       "      <td>-75259.615454</td>\n",
       "      <td>75788.153991</td>\n",
       "    </tr>\n",
       "  </tbody>\n",
       "</table>\n",
       "</div>"
      ],
      "text/plain": [
       "                             BX          BY          BZ          BT  \\\n",
       "DATE_TIME                                                             \n",
       "2006-04-24 00:00:00  901.170761  887.078621  886.592311  901.582144   \n",
       "2006-04-24 01:00:00  122.866044  107.284161  109.654450  123.584061   \n",
       "2006-04-24 02:00:00  230.881530  218.765052  216.810378  234.327848   \n",
       "2006-04-24 03:00:00  451.576201  437.057761  440.662270  455.704559   \n",
       "2006-04-24 04:00:00  560.491882  547.190941  554.806417  566.054039   \n",
       "\n",
       "                             XSC          YSC           ZSC           RSC  \n",
       "DATE_TIME                                                                  \n",
       "2006-04-24 00:00:00 -3076.407309 -2872.475157 -67213.437339  67351.778022  \n",
       "2006-04-24 01:00:00   -56.789406 -2147.243992 -70446.888658  70485.459712  \n",
       "2006-04-24 02:00:00  2966.294489 -1402.796963 -72831.017578  72910.164160  \n",
       "2006-04-24 03:00:00  5959.518042  -649.828442 -74422.302150  74668.263456  \n",
       "2006-04-24 04:00:00  8894.553522   103.003431 -75259.615454  75788.153991  "
      ]
     },
     "execution_count": 48,
     "metadata": {},
     "output_type": "execute_result"
    }
   ],
   "source": [
    "magneto_df.head()"
   ]
  },
  {
   "cell_type": "markdown",
   "metadata": {},
   "source": [
    "We merge this data with our first dataframe of ENACs and CMEs.\n",
    "\n",
    "We will have many NaNs because the magneto data covers a shorter time span than the EDAC data : we will remove those."
   ]
  },
  {
   "cell_type": "code",
   "execution_count": 49,
   "metadata": {},
   "outputs": [],
   "source": [
    "merged_df = hourly_vex_df.merge(magneto_df, left_index=True, right_index=True, how='left')"
   ]
  },
  {
   "cell_type": "code",
   "execution_count": 50,
   "metadata": {},
   "outputs": [
    {
     "data": {
      "text/html": [
       "<div>\n",
       "<style scoped>\n",
       "    .dataframe tbody tr th:only-of-type {\n",
       "        vertical-align: middle;\n",
       "    }\n",
       "\n",
       "    .dataframe tbody tr th {\n",
       "        vertical-align: top;\n",
       "    }\n",
       "\n",
       "    .dataframe thead th {\n",
       "        text-align: right;\n",
       "    }\n",
       "</style>\n",
       "<table border=\"1\" class=\"dataframe\">\n",
       "  <thead>\n",
       "    <tr style=\"text-align: right;\">\n",
       "      <th></th>\n",
       "      <th>DATE_TIME</th>\n",
       "      <th>EDAC</th>\n",
       "      <th>cme</th>\n",
       "      <th>BX</th>\n",
       "      <th>BY</th>\n",
       "      <th>BZ</th>\n",
       "      <th>BT</th>\n",
       "      <th>XSC</th>\n",
       "      <th>YSC</th>\n",
       "      <th>ZSC</th>\n",
       "      <th>RSC</th>\n",
       "    </tr>\n",
       "    <tr>\n",
       "      <th>DATE_TIME</th>\n",
       "      <th></th>\n",
       "      <th></th>\n",
       "      <th></th>\n",
       "      <th></th>\n",
       "      <th></th>\n",
       "      <th></th>\n",
       "      <th></th>\n",
       "      <th></th>\n",
       "      <th></th>\n",
       "      <th></th>\n",
       "      <th></th>\n",
       "    </tr>\n",
       "  </thead>\n",
       "  <tbody>\n",
       "    <tr>\n",
       "      <th>2006-04-24 00:00:00</th>\n",
       "      <td>2006-04-24 00:00:00</td>\n",
       "      <td>0</td>\n",
       "      <td>0</td>\n",
       "      <td>901.170761</td>\n",
       "      <td>887.078621</td>\n",
       "      <td>886.592311</td>\n",
       "      <td>901.582144</td>\n",
       "      <td>-3076.407309</td>\n",
       "      <td>-2872.475157</td>\n",
       "      <td>-67213.437339</td>\n",
       "      <td>67351.778022</td>\n",
       "    </tr>\n",
       "    <tr>\n",
       "      <th>2006-04-24 01:00:00</th>\n",
       "      <td>2006-04-24 01:00:00</td>\n",
       "      <td>0</td>\n",
       "      <td>0</td>\n",
       "      <td>122.866044</td>\n",
       "      <td>107.284161</td>\n",
       "      <td>109.654450</td>\n",
       "      <td>123.584061</td>\n",
       "      <td>-56.789406</td>\n",
       "      <td>-2147.243992</td>\n",
       "      <td>-70446.888658</td>\n",
       "      <td>70485.459712</td>\n",
       "    </tr>\n",
       "    <tr>\n",
       "      <th>2006-04-24 02:00:00</th>\n",
       "      <td>2006-04-24 02:00:00</td>\n",
       "      <td>0</td>\n",
       "      <td>0</td>\n",
       "      <td>230.881530</td>\n",
       "      <td>218.765052</td>\n",
       "      <td>216.810378</td>\n",
       "      <td>234.327848</td>\n",
       "      <td>2966.294489</td>\n",
       "      <td>-1402.796963</td>\n",
       "      <td>-72831.017578</td>\n",
       "      <td>72910.164160</td>\n",
       "    </tr>\n",
       "    <tr>\n",
       "      <th>2006-04-24 03:00:00</th>\n",
       "      <td>2006-04-24 03:00:00</td>\n",
       "      <td>0</td>\n",
       "      <td>0</td>\n",
       "      <td>451.576201</td>\n",
       "      <td>437.057761</td>\n",
       "      <td>440.662270</td>\n",
       "      <td>455.704559</td>\n",
       "      <td>5959.518042</td>\n",
       "      <td>-649.828442</td>\n",
       "      <td>-74422.302150</td>\n",
       "      <td>74668.263456</td>\n",
       "    </tr>\n",
       "    <tr>\n",
       "      <th>2006-04-24 04:00:00</th>\n",
       "      <td>2006-04-24 04:00:00</td>\n",
       "      <td>0</td>\n",
       "      <td>0</td>\n",
       "      <td>560.491882</td>\n",
       "      <td>547.190941</td>\n",
       "      <td>554.806417</td>\n",
       "      <td>566.054039</td>\n",
       "      <td>8894.553522</td>\n",
       "      <td>103.003431</td>\n",
       "      <td>-75259.615454</td>\n",
       "      <td>75788.153991</td>\n",
       "    </tr>\n",
       "  </tbody>\n",
       "</table>\n",
       "</div>"
      ],
      "text/plain": [
       "                              DATE_TIME  EDAC  cme          BX          BY  \\\n",
       "DATE_TIME                                                                    \n",
       "2006-04-24 00:00:00 2006-04-24 00:00:00     0    0  901.170761  887.078621   \n",
       "2006-04-24 01:00:00 2006-04-24 01:00:00     0    0  122.866044  107.284161   \n",
       "2006-04-24 02:00:00 2006-04-24 02:00:00     0    0  230.881530  218.765052   \n",
       "2006-04-24 03:00:00 2006-04-24 03:00:00     0    0  451.576201  437.057761   \n",
       "2006-04-24 04:00:00 2006-04-24 04:00:00     0    0  560.491882  547.190941   \n",
       "\n",
       "                             BZ          BT          XSC          YSC  \\\n",
       "DATE_TIME                                                               \n",
       "2006-04-24 00:00:00  886.592311  901.582144 -3076.407309 -2872.475157   \n",
       "2006-04-24 01:00:00  109.654450  123.584061   -56.789406 -2147.243992   \n",
       "2006-04-24 02:00:00  216.810378  234.327848  2966.294489 -1402.796963   \n",
       "2006-04-24 03:00:00  440.662270  455.704559  5959.518042  -649.828442   \n",
       "2006-04-24 04:00:00  554.806417  566.054039  8894.553522   103.003431   \n",
       "\n",
       "                              ZSC           RSC  \n",
       "DATE_TIME                                        \n",
       "2006-04-24 00:00:00 -67213.437339  67351.778022  \n",
       "2006-04-24 01:00:00 -70446.888658  70485.459712  \n",
       "2006-04-24 02:00:00 -72831.017578  72910.164160  \n",
       "2006-04-24 03:00:00 -74422.302150  74668.263456  \n",
       "2006-04-24 04:00:00 -75259.615454  75788.153991  "
      ]
     },
     "execution_count": 50,
     "metadata": {},
     "output_type": "execute_result"
    }
   ],
   "source": [
    "merged_df.dropna(inplace=True) # drop lines containing NaNs\n",
    "merged_df.head()"
   ]
  },
  {
   "cell_type": "markdown",
   "metadata": {},
   "source": [
    "We save this data in a second csv that we will use to train the same models.\n",
    "\n",
    "This will allow to assess the performance of our predictor: we will see how much gap in performance we have if we predict CME events based on only EDAC data compared to predicting it using both EDAC and magneto data"
   ]
  },
  {
   "cell_type": "code",
   "execution_count": 53,
   "metadata": {},
   "outputs": [],
   "source": [
    "merged_df.to_csv(train_file_path+'VEX_edac_mag_labeled.csv', index=False)"
   ]
  }
 ],
 "metadata": {
  "kernelspec": {
   "display_name": "Python 3",
   "language": "python",
   "name": "python3"
  },
  "language_info": {
   "codemirror_mode": {
    "name": "ipython",
    "version": 3
   },
   "file_extension": ".py",
   "mimetype": "text/x-python",
   "name": "python",
   "nbconvert_exporter": "python",
   "pygments_lexer": "ipython3",
   "version": "3.11.5"
  }
 },
 "nbformat": 4,
 "nbformat_minor": 2
}
