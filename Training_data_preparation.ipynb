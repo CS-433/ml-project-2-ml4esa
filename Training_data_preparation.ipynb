{
 "cells": [
  {
   "cell_type": "code",
   "execution_count": 33,
   "metadata": {
    "ExecuteTime": {
     "end_time": "2023-12-17T14:32:31.051589946Z",
     "start_time": "2023-12-17T14:32:30.839888158Z"
    }
   },
   "outputs": [],
   "source": [
    "# data processing\n",
    "import pandas as pd\n",
    "import numpy as np\n",
    "from datetime import datetime\n",
    "from datetime import timedelta\n",
    "\n",
    "# plotting\n",
    "import seaborn as sns\n",
    "import matplotlib.pyplot as plt\n",
    "\n",
    "# regression / matching\n",
    "import statsmodels.formula.api as smf"
   ]
  },
  {
   "cell_type": "markdown",
   "metadata": {},
   "source": [
    "## Load the data : EDAC and magneto"
   ]
  },
  {
   "cell_type": "code",
   "execution_count": 34,
   "metadata": {
    "ExecuteTime": {
     "end_time": "2023-12-17T14:32:34.869691584Z",
     "start_time": "2023-12-17T14:32:31.055064226Z"
    }
   },
   "outputs": [],
   "source": [
    "data_path = \"DATA/\"\n",
    "\n",
    "vex_df = pd.read_csv(data_path+\"VENUS_EXPRESS/VEX_NDMW0D0A_2023_01_11_12_55_55.900.txt\", sep='\\t')\n",
    "mag_df = pd.read_csv(data_path+\"VEX_MAGNETO/VEX-V-Y-MAG-4.csv\")"
   ]
  },
  {
   "cell_type": "markdown",
   "metadata": {},
   "source": [
    "We calculate the counts per day and remove the resetting of the counter at 0 for EDAC:"
   ]
  },
  {
   "cell_type": "code",
   "execution_count": 35,
   "metadata": {
    "ExecuteTime": {
     "end_time": "2023-12-17T14:32:36.195946669Z",
     "start_time": "2023-12-17T14:32:34.873313655Z"
    }
   },
   "outputs": [],
   "source": [
    "#vex_df['DATE_TIME'] = vex_df.DATE_TIME.apply(lambda d: datetime.strptime(d, '%Y-%m-%d %H:%M:%S.%f')) #takes more time for the graphs to show\n",
    "vex_df['EDAC'] = vex_df['NDMW0D0A'].diff().bfill().astype(int).map(lambda x: max(0, x))\n",
    "vex_df.drop('NDMW0D0A', axis=1, inplace=True)"
   ]
  },
  {
   "cell_type": "code",
   "execution_count": 36,
   "metadata": {
    "ExecuteTime": {
     "end_time": "2023-12-17T14:32:36.209280439Z",
     "start_time": "2023-12-17T14:32:36.202709182Z"
    }
   },
   "outputs": [
    {
     "data": {
      "text/plain": "                 DATE_TIME  EDAC\n0  2005-11-09 00:09:04.575     0\n1  2005-11-09 00:10:08.575     0\n2  2005-11-09 00:11:12.576     0\n3  2005-11-09 00:12:16.576     0\n4  2005-11-09 00:13:20.577     0",
      "text/html": "<div>\n<style scoped>\n    .dataframe tbody tr th:only-of-type {\n        vertical-align: middle;\n    }\n\n    .dataframe tbody tr th {\n        vertical-align: top;\n    }\n\n    .dataframe thead th {\n        text-align: right;\n    }\n</style>\n<table border=\"1\" class=\"dataframe\">\n  <thead>\n    <tr style=\"text-align: right;\">\n      <th></th>\n      <th>DATE_TIME</th>\n      <th>EDAC</th>\n    </tr>\n  </thead>\n  <tbody>\n    <tr>\n      <th>0</th>\n      <td>2005-11-09 00:09:04.575</td>\n      <td>0</td>\n    </tr>\n    <tr>\n      <th>1</th>\n      <td>2005-11-09 00:10:08.575</td>\n      <td>0</td>\n    </tr>\n    <tr>\n      <th>2</th>\n      <td>2005-11-09 00:11:12.576</td>\n      <td>0</td>\n    </tr>\n    <tr>\n      <th>3</th>\n      <td>2005-11-09 00:12:16.576</td>\n      <td>0</td>\n    </tr>\n    <tr>\n      <th>4</th>\n      <td>2005-11-09 00:13:20.577</td>\n      <td>0</td>\n    </tr>\n  </tbody>\n</table>\n</div>"
     },
     "execution_count": 36,
     "metadata": {},
     "output_type": "execute_result"
    }
   ],
   "source": [
    "vex_df.head()"
   ]
  },
  {
   "cell_type": "code",
   "execution_count": 37,
   "metadata": {
    "ExecuteTime": {
     "end_time": "2023-12-17T14:32:36.231782652Z",
     "start_time": "2023-12-17T14:32:36.207209694Z"
    }
   },
   "outputs": [
    {
     "data": {
      "text/plain": "                  date         BX        BY        BZ         BT          XSC  \\\n0  2006-04-24 00:00:00  12.357658 -1.304164 -3.332425  12.881274 -4451.055178   \n1  2006-04-24 00:05:00  12.868947 -0.980800 -3.360027  13.340680 -4202.246280   \n2  2006-04-24 00:10:00  12.857438 -0.871986 -3.487877  13.355384 -3954.000329   \n3  2006-04-24 00:15:00  12.898635 -0.684986 -2.885689  13.248405 -3705.057257   \n4  2006-04-24 00:20:00  12.766473 -0.517608 -2.217135  12.972905 -3453.676541   \n\n           YSC           ZSC           RSC  \n0 -3196.485753 -65466.762260  65695.760575  \n1 -3138.377907 -65806.350827  66015.078600  \n2 -3080.233288 -66137.913808  66327.612616  \n3 -3021.761270 -66463.291041  66635.079608  \n4 -2962.553108 -66784.717784  66939.596338  ",
      "text/html": "<div>\n<style scoped>\n    .dataframe tbody tr th:only-of-type {\n        vertical-align: middle;\n    }\n\n    .dataframe tbody tr th {\n        vertical-align: top;\n    }\n\n    .dataframe thead th {\n        text-align: right;\n    }\n</style>\n<table border=\"1\" class=\"dataframe\">\n  <thead>\n    <tr style=\"text-align: right;\">\n      <th></th>\n      <th>date</th>\n      <th>BX</th>\n      <th>BY</th>\n      <th>BZ</th>\n      <th>BT</th>\n      <th>XSC</th>\n      <th>YSC</th>\n      <th>ZSC</th>\n      <th>RSC</th>\n    </tr>\n  </thead>\n  <tbody>\n    <tr>\n      <th>0</th>\n      <td>2006-04-24 00:00:00</td>\n      <td>12.357658</td>\n      <td>-1.304164</td>\n      <td>-3.332425</td>\n      <td>12.881274</td>\n      <td>-4451.055178</td>\n      <td>-3196.485753</td>\n      <td>-65466.762260</td>\n      <td>65695.760575</td>\n    </tr>\n    <tr>\n      <th>1</th>\n      <td>2006-04-24 00:05:00</td>\n      <td>12.868947</td>\n      <td>-0.980800</td>\n      <td>-3.360027</td>\n      <td>13.340680</td>\n      <td>-4202.246280</td>\n      <td>-3138.377907</td>\n      <td>-65806.350827</td>\n      <td>66015.078600</td>\n    </tr>\n    <tr>\n      <th>2</th>\n      <td>2006-04-24 00:10:00</td>\n      <td>12.857438</td>\n      <td>-0.871986</td>\n      <td>-3.487877</td>\n      <td>13.355384</td>\n      <td>-3954.000329</td>\n      <td>-3080.233288</td>\n      <td>-66137.913808</td>\n      <td>66327.612616</td>\n    </tr>\n    <tr>\n      <th>3</th>\n      <td>2006-04-24 00:15:00</td>\n      <td>12.898635</td>\n      <td>-0.684986</td>\n      <td>-2.885689</td>\n      <td>13.248405</td>\n      <td>-3705.057257</td>\n      <td>-3021.761270</td>\n      <td>-66463.291041</td>\n      <td>66635.079608</td>\n    </tr>\n    <tr>\n      <th>4</th>\n      <td>2006-04-24 00:20:00</td>\n      <td>12.766473</td>\n      <td>-0.517608</td>\n      <td>-2.217135</td>\n      <td>12.972905</td>\n      <td>-3453.676541</td>\n      <td>-2962.553108</td>\n      <td>-66784.717784</td>\n      <td>66939.596338</td>\n    </tr>\n  </tbody>\n</table>\n</div>"
     },
     "execution_count": 37,
     "metadata": {},
     "output_type": "execute_result"
    }
   ],
   "source": [
    "mag_df.head()"
   ]
  },
  {
   "cell_type": "markdown",
   "metadata": {},
   "source": [
    "## Grouping by 5 minutes and merge"
   ]
  },
  {
   "cell_type": "code",
   "execution_count": 38,
   "metadata": {
    "ExecuteTime": {
     "end_time": "2023-12-17T14:32:37.676205334Z",
     "start_time": "2023-12-17T14:32:37.198892718Z"
    }
   },
   "outputs": [],
   "source": [
    "# Convert the 'DATE_TIME' column in vex_df to datetime and set as index\n",
    "vex_df['DATE_TIME'] = pd.to_datetime(vex_df['DATE_TIME'])\n",
    "vex_df.set_index('DATE_TIME', inplace=True)\n",
    "\n",
    "# Resample and take the mean for each 5-minute period\n",
    "vex_df_resampled = vex_df.resample('5T').sum()\n",
    "\n",
    "# Reset the index so 'DATE_TIME' becomes a column again\n",
    "vex_df_resampled.reset_index(inplace=True)\n",
    "\n",
    "# For mag_df, ensure the 'date' column is in datetime format and set as index\n",
    "mag_df['date'] = pd.to_datetime(mag_df['date'])\n",
    "mag_df.set_index('date', inplace=True)"
   ]
  },
  {
   "cell_type": "code",
   "execution_count": 39,
   "metadata": {
    "ExecuteTime": {
     "end_time": "2023-12-17T14:32:37.688208520Z",
     "start_time": "2023-12-17T14:32:37.681091889Z"
    }
   },
   "outputs": [
    {
     "data": {
      "text/plain": "            DATE_TIME  EDAC\n0 2005-11-09 00:05:00     0\n1 2005-11-09 00:10:00     0\n2 2005-11-09 00:15:00     0\n3 2005-11-09 00:20:00     0\n4 2005-11-09 00:25:00     0",
      "text/html": "<div>\n<style scoped>\n    .dataframe tbody tr th:only-of-type {\n        vertical-align: middle;\n    }\n\n    .dataframe tbody tr th {\n        vertical-align: top;\n    }\n\n    .dataframe thead th {\n        text-align: right;\n    }\n</style>\n<table border=\"1\" class=\"dataframe\">\n  <thead>\n    <tr style=\"text-align: right;\">\n      <th></th>\n      <th>DATE_TIME</th>\n      <th>EDAC</th>\n    </tr>\n  </thead>\n  <tbody>\n    <tr>\n      <th>0</th>\n      <td>2005-11-09 00:05:00</td>\n      <td>0</td>\n    </tr>\n    <tr>\n      <th>1</th>\n      <td>2005-11-09 00:10:00</td>\n      <td>0</td>\n    </tr>\n    <tr>\n      <th>2</th>\n      <td>2005-11-09 00:15:00</td>\n      <td>0</td>\n    </tr>\n    <tr>\n      <th>3</th>\n      <td>2005-11-09 00:20:00</td>\n      <td>0</td>\n    </tr>\n    <tr>\n      <th>4</th>\n      <td>2005-11-09 00:25:00</td>\n      <td>0</td>\n    </tr>\n  </tbody>\n</table>\n</div>"
     },
     "execution_count": 39,
     "metadata": {},
     "output_type": "execute_result"
    }
   ],
   "source": [
    "vex_df_resampled.head()"
   ]
  },
  {
   "cell_type": "code",
   "execution_count": 40,
   "metadata": {
    "ExecuteTime": {
     "end_time": "2023-12-17T14:32:37.797850545Z",
     "start_time": "2023-12-17T14:32:37.685362160Z"
    }
   },
   "outputs": [],
   "source": [
    "# Now, join the two dataframes on their datetime indices\n",
    "df = pd.merge_asof(vex_df_resampled, mag_df, left_on='DATE_TIME', right_index=True)"
   ]
  },
  {
   "cell_type": "code",
   "execution_count": 41,
   "metadata": {
    "ExecuteTime": {
     "end_time": "2023-12-17T14:32:37.800705729Z",
     "start_time": "2023-12-17T14:32:37.790180974Z"
    }
   },
   "outputs": [],
   "source": [
    "# Drop the rows with NaNs\n",
    "df.dropna(inplace=True)"
   ]
  },
  {
   "cell_type": "code",
   "execution_count": 42,
   "metadata": {
    "ExecuteTime": {
     "end_time": "2023-12-17T14:32:37.841874785Z",
     "start_time": "2023-12-17T14:32:37.790313861Z"
    }
   },
   "outputs": [
    {
     "data": {
      "text/plain": "                DATE_TIME  EDAC         BX        BY        BZ         BT  \\\n47807 2006-04-24 00:00:00     0  12.357658 -1.304164 -3.332425  12.881274   \n47808 2006-04-24 00:05:00     0  12.868947 -0.980800 -3.360027  13.340680   \n47809 2006-04-24 00:10:00     0  12.857438 -0.871986 -3.487877  13.355384   \n47810 2006-04-24 00:15:00     0  12.898635 -0.684986 -2.885689  13.248405   \n47811 2006-04-24 00:20:00     0  12.766473 -0.517608 -2.217135  12.972905   \n\n               XSC          YSC           ZSC           RSC  \n47807 -4451.055178 -3196.485753 -65466.762260  65695.760575  \n47808 -4202.246280 -3138.377907 -65806.350827  66015.078600  \n47809 -3954.000329 -3080.233288 -66137.913808  66327.612616  \n47810 -3705.057257 -3021.761270 -66463.291041  66635.079608  \n47811 -3453.676541 -2962.553108 -66784.717784  66939.596338  ",
      "text/html": "<div>\n<style scoped>\n    .dataframe tbody tr th:only-of-type {\n        vertical-align: middle;\n    }\n\n    .dataframe tbody tr th {\n        vertical-align: top;\n    }\n\n    .dataframe thead th {\n        text-align: right;\n    }\n</style>\n<table border=\"1\" class=\"dataframe\">\n  <thead>\n    <tr style=\"text-align: right;\">\n      <th></th>\n      <th>DATE_TIME</th>\n      <th>EDAC</th>\n      <th>BX</th>\n      <th>BY</th>\n      <th>BZ</th>\n      <th>BT</th>\n      <th>XSC</th>\n      <th>YSC</th>\n      <th>ZSC</th>\n      <th>RSC</th>\n    </tr>\n  </thead>\n  <tbody>\n    <tr>\n      <th>47807</th>\n      <td>2006-04-24 00:00:00</td>\n      <td>0</td>\n      <td>12.357658</td>\n      <td>-1.304164</td>\n      <td>-3.332425</td>\n      <td>12.881274</td>\n      <td>-4451.055178</td>\n      <td>-3196.485753</td>\n      <td>-65466.762260</td>\n      <td>65695.760575</td>\n    </tr>\n    <tr>\n      <th>47808</th>\n      <td>2006-04-24 00:05:00</td>\n      <td>0</td>\n      <td>12.868947</td>\n      <td>-0.980800</td>\n      <td>-3.360027</td>\n      <td>13.340680</td>\n      <td>-4202.246280</td>\n      <td>-3138.377907</td>\n      <td>-65806.350827</td>\n      <td>66015.078600</td>\n    </tr>\n    <tr>\n      <th>47809</th>\n      <td>2006-04-24 00:10:00</td>\n      <td>0</td>\n      <td>12.857438</td>\n      <td>-0.871986</td>\n      <td>-3.487877</td>\n      <td>13.355384</td>\n      <td>-3954.000329</td>\n      <td>-3080.233288</td>\n      <td>-66137.913808</td>\n      <td>66327.612616</td>\n    </tr>\n    <tr>\n      <th>47810</th>\n      <td>2006-04-24 00:15:00</td>\n      <td>0</td>\n      <td>12.898635</td>\n      <td>-0.684986</td>\n      <td>-2.885689</td>\n      <td>13.248405</td>\n      <td>-3705.057257</td>\n      <td>-3021.761270</td>\n      <td>-66463.291041</td>\n      <td>66635.079608</td>\n    </tr>\n    <tr>\n      <th>47811</th>\n      <td>2006-04-24 00:20:00</td>\n      <td>0</td>\n      <td>12.766473</td>\n      <td>-0.517608</td>\n      <td>-2.217135</td>\n      <td>12.972905</td>\n      <td>-3453.676541</td>\n      <td>-2962.553108</td>\n      <td>-66784.717784</td>\n      <td>66939.596338</td>\n    </tr>\n  </tbody>\n</table>\n</div>"
     },
     "execution_count": 42,
     "metadata": {},
     "output_type": "execute_result"
    }
   ],
   "source": [
    "df.head()"
   ]
  },
  {
   "cell_type": "markdown",
   "metadata": {},
   "source": [
    "## Old : grouping by hour\n",
    "Since the magneto data is grouped by hour, we aggregate the EDAC data by hour too:"
   ]
  },
  {
   "cell_type": "code",
   "execution_count": 43,
   "metadata": {
    "ExecuteTime": {
     "end_time": "2023-12-17T14:32:37.843204491Z",
     "start_time": "2023-12-17T14:32:37.834299590Z"
    }
   },
   "outputs": [],
   "source": [
    "# first we group byhour:\n",
    "# vex_df['DATE_TIME'] = pd.to_datetime(vex_df['DATE_TIME'])\n",
    "# hourly_grouped = vex_df.groupby(pd.Grouper(key='DATE_TIME', freq='H'))"
   ]
  },
  {
   "cell_type": "code",
   "execution_count": 44,
   "metadata": {
    "ExecuteTime": {
     "end_time": "2023-12-17T14:32:37.844398867Z",
     "start_time": "2023-12-17T14:32:37.834426298Z"
    }
   },
   "outputs": [],
   "source": [
    "# sanity check:\n",
    "# first_group = hourly_grouped.get_group(list(hourly_grouped.groups.keys())[0])\n",
    "# print(first_group)"
   ]
  },
  {
   "cell_type": "code",
   "execution_count": 45,
   "metadata": {
    "ExecuteTime": {
     "end_time": "2023-12-17T14:32:37.847562553Z",
     "start_time": "2023-12-17T14:32:37.834491249Z"
    }
   },
   "outputs": [],
   "source": [
    "# then we agregate the groups:\n",
    "# df = hourly_grouped.agg({'DATE_TIME': lambda x: x.dt.round('H').min(),'EDAC': 'sum'})"
   ]
  },
  {
   "cell_type": "code",
   "execution_count": 46,
   "metadata": {
    "ExecuteTime": {
     "end_time": "2023-12-17T14:32:37.848862391Z",
     "start_time": "2023-12-17T14:32:37.834545307Z"
    }
   },
   "outputs": [],
   "source": [
    "# we drop lines containing NaNs, then check that no Nans are left in our dataframe:\n",
    "# df.dropna(inplace=True)\n",
    "# \n",
    "# has_nan = df.isna().any().any()\n",
    "# print(has_nan)"
   ]
  },
  {
   "cell_type": "code",
   "execution_count": 47,
   "metadata": {
    "ExecuteTime": {
     "end_time": "2023-12-17T14:32:37.850030461Z",
     "start_time": "2023-12-17T14:32:37.834644708Z"
    }
   },
   "outputs": [],
   "source": [
    "# sanity check:\n",
    "# df.head()"
   ]
  },
  {
   "cell_type": "markdown",
   "metadata": {},
   "source": [
    "## Adding CME labels\n",
    "Now let's add the events of CME :"
   ]
  },
  {
   "cell_type": "code",
   "execution_count": 48,
   "metadata": {
    "ExecuteTime": {
     "end_time": "2023-12-17T14:32:37.851179831Z",
     "start_time": "2023-12-17T14:32:37.834696049Z"
    }
   },
   "outputs": [],
   "source": [
    "vex_cme_df = pd.read_csv(data_path+\"VENUS_EXPRESS/VEX_CME_date_time.csv\")\n",
    "df['cme'] = 0"
   ]
  },
  {
   "cell_type": "code",
   "execution_count": 49,
   "metadata": {
    "ExecuteTime": {
     "end_time": "2023-12-17T14:32:37.852411874Z",
     "start_time": "2023-12-17T14:32:37.834743912Z"
    }
   },
   "outputs": [],
   "source": [
    "vex_cme_df.start_time = pd.to_datetime(vex_cme_df.start_time)\n",
    "vex_cme_df.end_time = pd.to_datetime(vex_cme_df.end_time)"
   ]
  },
  {
   "cell_type": "code",
   "execution_count": 50,
   "metadata": {
    "ExecuteTime": {
     "end_time": "2023-12-17T14:32:38.360163926Z",
     "start_time": "2023-12-17T14:32:37.834790997Z"
    }
   },
   "outputs": [],
   "source": [
    "for index, row in vex_cme_df.iterrows():\n",
    "    start_time = row['start_time'].round('5T')\n",
    "    end_time = row['end_time'].round('5T')\n",
    "    \n",
    "    # Set 'cme' column values to 1 between start_time and end_time\n",
    "    df.loc[(df.DATE_TIME >= start_time) & (df.DATE_TIME <= end_time), 'cme'] = 1"
   ]
  },
  {
   "cell_type": "code",
   "execution_count": 51,
   "metadata": {
    "ExecuteTime": {
     "end_time": "2023-12-17T14:32:38.373677951Z",
     "start_time": "2023-12-17T14:32:38.358535657Z"
    }
   },
   "outputs": [
    {
     "data": {
      "text/plain": "                DATE_TIME  EDAC         BX        BY        BZ         BT  \\\n47807 2006-04-24 00:00:00     0  12.357658 -1.304164 -3.332425  12.881274   \n47808 2006-04-24 00:05:00     0  12.868947 -0.980800 -3.360027  13.340680   \n47809 2006-04-24 00:10:00     0  12.857438 -0.871986 -3.487877  13.355384   \n47810 2006-04-24 00:15:00     0  12.898635 -0.684986 -2.885689  13.248405   \n47811 2006-04-24 00:20:00     0  12.766473 -0.517608 -2.217135  12.972905   \n\n               XSC          YSC           ZSC           RSC  cme  \n47807 -4451.055178 -3196.485753 -65466.762260  65695.760575    0  \n47808 -4202.246280 -3138.377907 -65806.350827  66015.078600    0  \n47809 -3954.000329 -3080.233288 -66137.913808  66327.612616    0  \n47810 -3705.057257 -3021.761270 -66463.291041  66635.079608    0  \n47811 -3453.676541 -2962.553108 -66784.717784  66939.596338    0  ",
      "text/html": "<div>\n<style scoped>\n    .dataframe tbody tr th:only-of-type {\n        vertical-align: middle;\n    }\n\n    .dataframe tbody tr th {\n        vertical-align: top;\n    }\n\n    .dataframe thead th {\n        text-align: right;\n    }\n</style>\n<table border=\"1\" class=\"dataframe\">\n  <thead>\n    <tr style=\"text-align: right;\">\n      <th></th>\n      <th>DATE_TIME</th>\n      <th>EDAC</th>\n      <th>BX</th>\n      <th>BY</th>\n      <th>BZ</th>\n      <th>BT</th>\n      <th>XSC</th>\n      <th>YSC</th>\n      <th>ZSC</th>\n      <th>RSC</th>\n      <th>cme</th>\n    </tr>\n  </thead>\n  <tbody>\n    <tr>\n      <th>47807</th>\n      <td>2006-04-24 00:00:00</td>\n      <td>0</td>\n      <td>12.357658</td>\n      <td>-1.304164</td>\n      <td>-3.332425</td>\n      <td>12.881274</td>\n      <td>-4451.055178</td>\n      <td>-3196.485753</td>\n      <td>-65466.762260</td>\n      <td>65695.760575</td>\n      <td>0</td>\n    </tr>\n    <tr>\n      <th>47808</th>\n      <td>2006-04-24 00:05:00</td>\n      <td>0</td>\n      <td>12.868947</td>\n      <td>-0.980800</td>\n      <td>-3.360027</td>\n      <td>13.340680</td>\n      <td>-4202.246280</td>\n      <td>-3138.377907</td>\n      <td>-65806.350827</td>\n      <td>66015.078600</td>\n      <td>0</td>\n    </tr>\n    <tr>\n      <th>47809</th>\n      <td>2006-04-24 00:10:00</td>\n      <td>0</td>\n      <td>12.857438</td>\n      <td>-0.871986</td>\n      <td>-3.487877</td>\n      <td>13.355384</td>\n      <td>-3954.000329</td>\n      <td>-3080.233288</td>\n      <td>-66137.913808</td>\n      <td>66327.612616</td>\n      <td>0</td>\n    </tr>\n    <tr>\n      <th>47810</th>\n      <td>2006-04-24 00:15:00</td>\n      <td>0</td>\n      <td>12.898635</td>\n      <td>-0.684986</td>\n      <td>-2.885689</td>\n      <td>13.248405</td>\n      <td>-3705.057257</td>\n      <td>-3021.761270</td>\n      <td>-66463.291041</td>\n      <td>66635.079608</td>\n      <td>0</td>\n    </tr>\n    <tr>\n      <th>47811</th>\n      <td>2006-04-24 00:20:00</td>\n      <td>0</td>\n      <td>12.766473</td>\n      <td>-0.517608</td>\n      <td>-2.217135</td>\n      <td>12.972905</td>\n      <td>-3453.676541</td>\n      <td>-2962.553108</td>\n      <td>-66784.717784</td>\n      <td>66939.596338</td>\n      <td>0</td>\n    </tr>\n  </tbody>\n</table>\n</div>"
     },
     "execution_count": 51,
     "metadata": {},
     "output_type": "execute_result"
    }
   ],
   "source": [
    "# sanity check:\n",
    "df.head()"
   ]
  },
  {
   "cell_type": "code",
   "execution_count": 52,
   "metadata": {
    "ExecuteTime": {
     "end_time": "2023-12-17T14:32:38.410270501Z",
     "start_time": "2023-12-17T14:32:38.375826241Z"
    }
   },
   "outputs": [
    {
     "name": "stdout",
     "output_type": "stream",
     "text": [
      "Number of rows where cme is equal to 1: 15939\n"
     ]
    }
   ],
   "source": [
    "cme_count = df[df['cme'] == 1].shape[0]\n",
    "print(f\"Number of rows where cme is equal to 1: {cme_count}\")"
   ]
  },
  {
   "cell_type": "markdown",
   "metadata": {},
   "source": [
    "##### Parenthesis : class imbalance\n",
    "Let's have a look at the proportion of CME events: we see that only 1.8% of our data corresponds to a CME.\n",
    "\n",
    "Since we have this huge class imbalance, we can expect the models we will train to be biased towards predicting no CMEs.\n",
    "We will have to implement various methods to mitigate this class imbalance."
   ]
  },
  {
   "cell_type": "code",
   "execution_count": 53,
   "metadata": {
    "ExecuteTime": {
     "end_time": "2023-12-17T14:32:38.413681577Z",
     "start_time": "2023-12-17T14:32:38.383136552Z"
    }
   },
   "outputs": [
    {
     "name": "stdout",
     "output_type": "stream",
     "text": [
      "CME count: 15939\n",
      "Total count: 893069\n",
      "Percentage of CME events: 1.78%\n"
     ]
    }
   ],
   "source": [
    "cme_count = df[df['cme'] == 1].shape[0]\n",
    "total_count = len(df)\n",
    "percentage = (cme_count / total_count) * 100\n",
    "\n",
    "print(f\"CME count: {cme_count}\")\n",
    "print(f\"Total count: {total_count}\")\n",
    "print(f\"Percentage of CME events: {percentage:.2f}%\")\n"
   ]
  },
  {
   "cell_type": "markdown",
   "source": [
    "# Check the data seb"
   ],
   "metadata": {
    "collapsed": false
   }
  },
  {
   "cell_type": "code",
   "execution_count": 54,
   "outputs": [],
   "source": [
    "df.head()\n",
    "df2 = df.copy()\n",
    "df2.set_index('DATE_TIME', inplace=True)\n",
    "df2 = df2.resample('5min').mean() \n",
    "df2.reset_index(inplace=True)"
   ],
   "metadata": {
    "collapsed": false,
    "ExecuteTime": {
     "end_time": "2023-12-17T14:32:38.879779031Z",
     "start_time": "2023-12-17T14:32:38.391652905Z"
    }
   }
  },
  {
   "cell_type": "code",
   "execution_count": 68,
   "outputs": [
    {
     "name": "stdout",
     "output_type": "stream",
     "text": [
      "0.0 Percentage of nan values\n",
      "1.2336544926920763 Percentage of nan values\n",
      "893069 904224\n"
     ]
    }
   ],
   "source": [],
   "metadata": {
    "collapsed": false,
    "ExecuteTime": {
     "end_time": "2023-12-17T14:53:44.886046218Z",
     "start_time": "2023-12-17T14:53:44.857972448Z"
    }
   }
  },
  {
   "cell_type": "markdown",
   "metadata": {},
   "source": [
    "End of parenthesis, back to our dataframe:"
   ]
  },
  {
   "cell_type": "markdown",
   "metadata": {},
   "source": [
    "We save this data in a first csv that we will use to train our models (predict CME events based on EDAC):"
   ]
  },
  {
   "cell_type": "code",
   "execution_count": 57,
   "metadata": {
    "ExecuteTime": {
     "end_time": "2023-12-17T14:32:48.835732094Z",
     "start_time": "2023-12-17T14:32:39.582906891Z"
    }
   },
   "outputs": [],
   "source": [
    "train_file_path = \"DATA/training_data/\"\n",
    "df2.to_csv(train_file_path+'VEX_edac_mag_labeled_nan.csv', index=False)"
   ]
  },
  {
   "cell_type": "markdown",
   "metadata": {},
   "source": [
    "## Old : Adding magneto data\n",
    "Now let's add the magneto data to a second dataframe (to assess the performance of our predictor: we will see how much gap in performance we have if we predict CME events based on EDAC and magneto data):"
   ]
  },
  {
   "cell_type": "code",
   "execution_count": 58,
   "metadata": {
    "ExecuteTime": {
     "end_time": "2023-12-17T14:32:50.108629112Z",
     "start_time": "2023-12-17T14:32:48.841405125Z"
    }
   },
   "outputs": [],
   "source": [
    "# Load magneto data\n",
    "magneto_path = \"DATA/VEX_MAGNETO/VEX-V-Y-MAG-4.csv\"\n",
    "magneto_df = pd.read_csv(magneto_path)"
   ]
  },
  {
   "cell_type": "code",
   "execution_count": 59,
   "metadata": {
    "ExecuteTime": {
     "end_time": "2023-12-17T14:32:50.384177802Z",
     "start_time": "2023-12-17T14:32:50.121262604Z"
    }
   },
   "outputs": [],
   "source": [
    "# we also set the date as index to merge it with our EDAC dataframe\n",
    "magneto_df.rename(columns={'date': 'DATE_TIME'}, inplace=True)\n",
    "magneto_df.set_index('DATE_TIME', inplace=True)\n",
    "\n",
    "# we convert the index to datetime to be able to merge it with our EDAC dataframe\n",
    "magneto_df.index = pd.to_datetime(magneto_df.index)"
   ]
  },
  {
   "cell_type": "code",
   "execution_count": 60,
   "metadata": {
    "ExecuteTime": {
     "end_time": "2023-12-17T14:32:50.385715571Z",
     "start_time": "2023-12-17T14:32:50.331641740Z"
    }
   },
   "outputs": [
    {
     "name": "stdout",
     "output_type": "stream",
     "text": [
      "magneto_df index type: datetime64[ns]\n",
      "df index type: int64\n"
     ]
    }
   ],
   "source": [
    "# sanity check:\n",
    "\n",
    "print(\"magneto_df index type:\", magneto_df.index.dtype)\n",
    "print(\"df index type:\", df.index.dtype)"
   ]
  },
  {
   "cell_type": "code",
   "execution_count": 61,
   "metadata": {
    "ExecuteTime": {
     "end_time": "2023-12-17T14:32:50.387324980Z",
     "start_time": "2023-12-17T14:32:50.343210569Z"
    }
   },
   "outputs": [
    {
     "data": {
      "text/plain": "                            BX        BY        BZ         BT          XSC  \\\nDATE_TIME                                                                    \n2006-04-24 00:00:00  12.357658 -1.304164 -3.332425  12.881274 -4451.055178   \n2006-04-24 00:05:00  12.868947 -0.980800 -3.360027  13.340680 -4202.246280   \n2006-04-24 00:10:00  12.857438 -0.871986 -3.487877  13.355384 -3954.000329   \n2006-04-24 00:15:00  12.898635 -0.684986 -2.885689  13.248405 -3705.057257   \n2006-04-24 00:20:00  12.766473 -0.517608 -2.217135  12.972905 -3453.676541   \n\n                             YSC           ZSC           RSC  \nDATE_TIME                                                     \n2006-04-24 00:00:00 -3196.485753 -65466.762260  65695.760575  \n2006-04-24 00:05:00 -3138.377907 -65806.350827  66015.078600  \n2006-04-24 00:10:00 -3080.233288 -66137.913808  66327.612616  \n2006-04-24 00:15:00 -3021.761270 -66463.291041  66635.079608  \n2006-04-24 00:20:00 -2962.553108 -66784.717784  66939.596338  ",
      "text/html": "<div>\n<style scoped>\n    .dataframe tbody tr th:only-of-type {\n        vertical-align: middle;\n    }\n\n    .dataframe tbody tr th {\n        vertical-align: top;\n    }\n\n    .dataframe thead th {\n        text-align: right;\n    }\n</style>\n<table border=\"1\" class=\"dataframe\">\n  <thead>\n    <tr style=\"text-align: right;\">\n      <th></th>\n      <th>BX</th>\n      <th>BY</th>\n      <th>BZ</th>\n      <th>BT</th>\n      <th>XSC</th>\n      <th>YSC</th>\n      <th>ZSC</th>\n      <th>RSC</th>\n    </tr>\n    <tr>\n      <th>DATE_TIME</th>\n      <th></th>\n      <th></th>\n      <th></th>\n      <th></th>\n      <th></th>\n      <th></th>\n      <th></th>\n      <th></th>\n    </tr>\n  </thead>\n  <tbody>\n    <tr>\n      <th>2006-04-24 00:00:00</th>\n      <td>12.357658</td>\n      <td>-1.304164</td>\n      <td>-3.332425</td>\n      <td>12.881274</td>\n      <td>-4451.055178</td>\n      <td>-3196.485753</td>\n      <td>-65466.762260</td>\n      <td>65695.760575</td>\n    </tr>\n    <tr>\n      <th>2006-04-24 00:05:00</th>\n      <td>12.868947</td>\n      <td>-0.980800</td>\n      <td>-3.360027</td>\n      <td>13.340680</td>\n      <td>-4202.246280</td>\n      <td>-3138.377907</td>\n      <td>-65806.350827</td>\n      <td>66015.078600</td>\n    </tr>\n    <tr>\n      <th>2006-04-24 00:10:00</th>\n      <td>12.857438</td>\n      <td>-0.871986</td>\n      <td>-3.487877</td>\n      <td>13.355384</td>\n      <td>-3954.000329</td>\n      <td>-3080.233288</td>\n      <td>-66137.913808</td>\n      <td>66327.612616</td>\n    </tr>\n    <tr>\n      <th>2006-04-24 00:15:00</th>\n      <td>12.898635</td>\n      <td>-0.684986</td>\n      <td>-2.885689</td>\n      <td>13.248405</td>\n      <td>-3705.057257</td>\n      <td>-3021.761270</td>\n      <td>-66463.291041</td>\n      <td>66635.079608</td>\n    </tr>\n    <tr>\n      <th>2006-04-24 00:20:00</th>\n      <td>12.766473</td>\n      <td>-0.517608</td>\n      <td>-2.217135</td>\n      <td>12.972905</td>\n      <td>-3453.676541</td>\n      <td>-2962.553108</td>\n      <td>-66784.717784</td>\n      <td>66939.596338</td>\n    </tr>\n  </tbody>\n</table>\n</div>"
     },
     "execution_count": 61,
     "metadata": {},
     "output_type": "execute_result"
    }
   ],
   "source": [
    "magneto_df.head()"
   ]
  },
  {
   "cell_type": "markdown",
   "metadata": {},
   "source": [
    "We merge this data with our first dataframe of ENACs and CMEs.\n",
    "\n",
    "We will have many NaNs because the magneto data covers a shorter time span than the EDAC data : we will remove those."
   ]
  },
  {
   "cell_type": "code",
   "execution_count": 62,
   "metadata": {
    "ExecuteTime": {
     "end_time": "2023-12-17T14:32:52.930357526Z",
     "start_time": "2023-12-17T14:32:51.493411855Z"
    }
   },
   "outputs": [],
   "source": [
    "merged_df = df.merge(magneto_df, left_index=True, right_index=True, how='left')"
   ]
  },
  {
   "cell_type": "code",
   "execution_count": 63,
   "metadata": {
    "ExecuteTime": {
     "end_time": "2023-12-17T14:32:52.931251763Z",
     "start_time": "2023-12-17T14:32:52.930261149Z"
    }
   },
   "outputs": [
    {
     "data": {
      "text/plain": "Empty DataFrame\nColumns: [DATE_TIME, EDAC, BX_x, BY_x, BZ_x, BT_x, XSC_x, YSC_x, ZSC_x, RSC_x, cme, BX_y, BY_y, BZ_y, BT_y, XSC_y, YSC_y, ZSC_y, RSC_y]\nIndex: []",
      "text/html": "<div>\n<style scoped>\n    .dataframe tbody tr th:only-of-type {\n        vertical-align: middle;\n    }\n\n    .dataframe tbody tr th {\n        vertical-align: top;\n    }\n\n    .dataframe thead th {\n        text-align: right;\n    }\n</style>\n<table border=\"1\" class=\"dataframe\">\n  <thead>\n    <tr style=\"text-align: right;\">\n      <th></th>\n      <th>DATE_TIME</th>\n      <th>EDAC</th>\n      <th>BX_x</th>\n      <th>BY_x</th>\n      <th>BZ_x</th>\n      <th>BT_x</th>\n      <th>XSC_x</th>\n      <th>YSC_x</th>\n      <th>ZSC_x</th>\n      <th>RSC_x</th>\n      <th>cme</th>\n      <th>BX_y</th>\n      <th>BY_y</th>\n      <th>BZ_y</th>\n      <th>BT_y</th>\n      <th>XSC_y</th>\n      <th>YSC_y</th>\n      <th>ZSC_y</th>\n      <th>RSC_y</th>\n    </tr>\n  </thead>\n  <tbody>\n  </tbody>\n</table>\n</div>"
     },
     "execution_count": 63,
     "metadata": {},
     "output_type": "execute_result"
    }
   ],
   "source": [
    "merged_df.dropna(inplace=True) # drop lines containing NaNs\n",
    "merged_df.head()"
   ]
  },
  {
   "cell_type": "markdown",
   "metadata": {},
   "source": [
    "To train many models, it is easier to deal with numerical values. We will transform `DATE_TIME` into `delta_hour`."
   ]
  },
  {
   "cell_type": "code",
   "execution_count": 64,
   "metadata": {
    "ExecuteTime": {
     "end_time": "2023-12-17T14:32:52.932070153Z",
     "start_time": "2023-12-17T14:32:52.930468221Z"
    }
   },
   "outputs": [],
   "source": [
    "merged_df['delta_hour'] = merged_df['DATE_TIME'].diff().dt.total_seconds() / 3600.0\n",
    "merged_df.dropna(inplace=True) # the first line will have a NaN delta_hour, so we drop it"
   ]
  },
  {
   "cell_type": "code",
   "execution_count": 65,
   "metadata": {
    "ExecuteTime": {
     "end_time": "2023-12-17T14:32:52.933218921Z",
     "start_time": "2023-12-17T14:32:52.930571821Z"
    }
   },
   "outputs": [
    {
     "data": {
      "text/plain": "Empty DataFrame\nColumns: [EDAC, BX_x, BY_x, BZ_x, BT_x, XSC_x, YSC_x, ZSC_x, RSC_x, cme, BX_y, BY_y, BZ_y, BT_y, XSC_y, YSC_y, ZSC_y, RSC_y, delta_hour]\nIndex: []",
      "text/html": "<div>\n<style scoped>\n    .dataframe tbody tr th:only-of-type {\n        vertical-align: middle;\n    }\n\n    .dataframe tbody tr th {\n        vertical-align: top;\n    }\n\n    .dataframe thead th {\n        text-align: right;\n    }\n</style>\n<table border=\"1\" class=\"dataframe\">\n  <thead>\n    <tr style=\"text-align: right;\">\n      <th></th>\n      <th>EDAC</th>\n      <th>BX_x</th>\n      <th>BY_x</th>\n      <th>BZ_x</th>\n      <th>BT_x</th>\n      <th>XSC_x</th>\n      <th>YSC_x</th>\n      <th>ZSC_x</th>\n      <th>RSC_x</th>\n      <th>cme</th>\n      <th>BX_y</th>\n      <th>BY_y</th>\n      <th>BZ_y</th>\n      <th>BT_y</th>\n      <th>XSC_y</th>\n      <th>YSC_y</th>\n      <th>ZSC_y</th>\n      <th>RSC_y</th>\n      <th>delta_hour</th>\n    </tr>\n  </thead>\n  <tbody>\n  </tbody>\n</table>\n</div>"
     },
     "execution_count": 65,
     "metadata": {},
     "output_type": "execute_result"
    }
   ],
   "source": [
    "merged_df.drop('DATE_TIME', axis=1, inplace=True)\n",
    "merged_df.head()"
   ]
  },
  {
   "cell_type": "markdown",
   "metadata": {},
   "source": [
    "We save this data in a second csv that we will use to train the same models.\n",
    "\n",
    "This will allow to assess the performance of our predictor: we will see how much gap in performance we have if we predict CME events based on only EDAC data compared to predicting it using both EDAC and magneto data"
   ]
  },
  {
   "cell_type": "code",
   "execution_count": 66,
   "metadata": {
    "ExecuteTime": {
     "end_time": "2023-12-17T14:32:52.934530173Z",
     "start_time": "2023-12-17T14:32:52.931122240Z"
    }
   },
   "outputs": [],
   "source": [
    "# merged_df.to_csv(train_file_path+'VEX_edac_mag_labeled.csv', index=False)"
   ]
  },
  {
   "cell_type": "code",
   "execution_count": 67,
   "outputs": [
    {
     "data": {
      "text/plain": "Empty DataFrame\nColumns: [EDAC, BX_x, BY_x, BZ_x, BT_x, XSC_x, YSC_x, ZSC_x, RSC_x, cme, BX_y, BY_y, BZ_y, BT_y, XSC_y, YSC_y, ZSC_y, RSC_y, delta_hour]\nIndex: []",
      "text/html": "<div>\n<style scoped>\n    .dataframe tbody tr th:only-of-type {\n        vertical-align: middle;\n    }\n\n    .dataframe tbody tr th {\n        vertical-align: top;\n    }\n\n    .dataframe thead th {\n        text-align: right;\n    }\n</style>\n<table border=\"1\" class=\"dataframe\">\n  <thead>\n    <tr style=\"text-align: right;\">\n      <th></th>\n      <th>EDAC</th>\n      <th>BX_x</th>\n      <th>BY_x</th>\n      <th>BZ_x</th>\n      <th>BT_x</th>\n      <th>XSC_x</th>\n      <th>YSC_x</th>\n      <th>ZSC_x</th>\n      <th>RSC_x</th>\n      <th>cme</th>\n      <th>BX_y</th>\n      <th>BY_y</th>\n      <th>BZ_y</th>\n      <th>BT_y</th>\n      <th>XSC_y</th>\n      <th>YSC_y</th>\n      <th>ZSC_y</th>\n      <th>RSC_y</th>\n      <th>delta_hour</th>\n    </tr>\n  </thead>\n  <tbody>\n  </tbody>\n</table>\n</div>"
     },
     "execution_count": 67,
     "metadata": {},
     "output_type": "execute_result"
    }
   ],
   "source": [
    "merged_df.head()"
   ],
   "metadata": {
    "collapsed": false,
    "ExecuteTime": {
     "end_time": "2023-12-17T14:32:52.941093764Z",
     "start_time": "2023-12-17T14:32:52.938727206Z"
    }
   }
  }
 ],
 "metadata": {
  "kernelspec": {
   "display_name": "Python 3",
   "language": "python",
   "name": "python3"
  },
  "language_info": {
   "codemirror_mode": {
    "name": "ipython",
    "version": 3
   },
   "file_extension": ".py",
   "mimetype": "text/x-python",
   "name": "python",
   "nbconvert_exporter": "python",
   "pygments_lexer": "ipython3",
   "version": "3.11.5"
  }
 },
 "nbformat": 4,
 "nbformat_minor": 2
}
